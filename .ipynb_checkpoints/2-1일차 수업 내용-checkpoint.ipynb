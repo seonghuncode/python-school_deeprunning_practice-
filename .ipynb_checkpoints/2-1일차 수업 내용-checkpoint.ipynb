{
 "cells": [
  {
   "cell_type": "code",
   "execution_count": null,
   "id": "1a0c533b",
   "metadata": {},
   "outputs": [],
   "source": [
    "#2일차 인공지능 특강"
   ]
  },
  {
   "cell_type": "code",
   "execution_count": null,
   "id": "26442614",
   "metadata": {},
   "outputs": [],
   "source": []
  },
  {
   "cell_type": "code",
   "execution_count": null,
   "id": "9eb6a8ae",
   "metadata": {},
   "outputs": [],
   "source": []
  },
  {
   "cell_type": "code",
   "execution_count": 4,
   "id": "c4477458",
   "metadata": {},
   "outputs": [],
   "source": [
    "#신경망 계산하는 방법(아래의 리스트가 있는데 넘파이를 사용하여 결괴 값을 구하여라) - 텐스프로우가 대신해주기 때문에 방법만 일기\n",
    "#(책애서 신경망 계산 에 트리 모양의 문제임 - 그려논가 참고)"
   ]
  },
  {
   "cell_type": "code",
   "execution_count": 7,
   "id": "e094e53d",
   "metadata": {},
   "outputs": [
    {
     "data": {
      "text/plain": [
       "array([[ 1,  0,  1],\n",
       "       [ 1,  1, 10],\n",
       "       [ 1, -1,  1],\n",
       "       [ 1,  1,  1],\n",
       "       [ 1,  2,  1]])"
      ]
     },
     "execution_count": 7,
     "metadata": {},
     "output_type": "execute_result"
    }
   ],
   "source": [
    "import numpy as np\n",
    "\n",
    "X = np.array([[1,0,1], [1,1,10], [1,-1,1], [1,1,1], [1,2,1]])\n",
    "X"
   ]
  },
  {
   "cell_type": "code",
   "execution_count": 8,
   "id": "5a7410de",
   "metadata": {},
   "outputs": [
    {
     "data": {
      "text/plain": [
       "array([ 1,  1, -1])"
      ]
     },
     "execution_count": 8,
     "metadata": {},
     "output_type": "execute_result"
    }
   ],
   "source": [
    "W = np.array([1,1,-1])\n",
    "W"
   ]
  },
  {
   "cell_type": "code",
   "execution_count": 9,
   "id": "559647d7",
   "metadata": {},
   "outputs": [
    {
     "data": {
      "text/plain": [
       "array([[  1,   0,  -1],\n",
       "       [  1,   1, -10],\n",
       "       [  1,  -1,  -1],\n",
       "       [  1,   1,  -1],\n",
       "       [  1,   2,  -1]])"
      ]
     },
     "execution_count": 9,
     "metadata": {},
     "output_type": "execute_result"
    }
   ],
   "source": [
    "X*W #입력값에 가중치를 곱한다. 1열은 *1 두번째열 *1 마지막은*-1  (이렇게 열단위로 곱하는게 넘파이의 기능중 하나)"
   ]
  },
  {
   "cell_type": "code",
   "execution_count": 10,
   "id": "1b2d4e75",
   "metadata": {},
   "outputs": [
    {
     "data": {
      "text/plain": [
       "array([ 0, -8, -1,  1,  2])"
      ]
     },
     "execution_count": 10,
     "metadata": {},
     "output_type": "execute_result"
    }
   ],
   "source": [
    "(X*W).sum(axis=1)  #옆으로 더하라 ==> axis=1"
   ]
  },
  {
   "cell_type": "code",
   "execution_count": null,
   "id": "399823bb",
   "metadata": {},
   "outputs": [],
   "source": []
  },
  {
   "cell_type": "code",
   "execution_count": 13,
   "id": "38ca9dfb",
   "metadata": {},
   "outputs": [
    {
     "data": {
      "text/plain": [
       "array([ 0, -8, -1,  1,  2])"
      ]
     },
     "execution_count": 13,
     "metadata": {},
     "output_type": "execute_result"
    }
   ],
   "source": [
    "X@W # == (X*W).sum(axis=1) 같은 식이다."
   ]
  },
  {
   "cell_type": "code",
   "execution_count": null,
   "id": "1abd6817",
   "metadata": {},
   "outputs": [],
   "source": [
    "#(위의 방법을 더 간단하게 푸는 방법)"
   ]
  },
  {
   "cell_type": "code",
   "execution_count": 11,
   "id": "7057d71e",
   "metadata": {},
   "outputs": [
    {
     "data": {
      "text/plain": [
       "array([[ 0],\n",
       "       [-8],\n",
       "       [-1],\n",
       "       [ 1],\n",
       "       [ 2]])"
      ]
     },
     "execution_count": 11,
     "metadata": {},
     "output_type": "execute_result"
    }
   ],
   "source": [
    "X@(W.reshape(3,1))  #위의 문제를 더 간단하게 해결하는 방법 // @ ==>"
   ]
  },
  {
   "cell_type": "code",
   "execution_count": null,
   "id": "1266e49c",
   "metadata": {},
   "outputs": [],
   "source": []
  },
  {
   "cell_type": "code",
   "execution_count": 14,
   "id": "bc966cca",
   "metadata": {},
   "outputs": [],
   "source": [
    "#의 값 절편 값이 있을 경우"
   ]
  },
  {
   "cell_type": "code",
   "execution_count": null,
   "id": "54900b9e",
   "metadata": {},
   "outputs": [],
   "source": []
  },
  {
   "cell_type": "code",
   "execution_count": null,
   "id": "d2d6b505",
   "metadata": {},
   "outputs": [],
   "source": []
  },
  {
   "cell_type": "code",
   "execution_count": null,
   "id": "82d3e7dd",
   "metadata": {},
   "outputs": [],
   "source": [
    "#####################################################################################################################################"
   ]
  },
  {
   "cell_type": "code",
   "execution_count": null,
   "id": "c1aa65c4",
   "metadata": {},
   "outputs": [],
   "source": [
    "#선형회귀의와 신경망 괸계는 입력값 * 가중치(W) + b -> 결과 값이 도출된다."
   ]
  },
  {
   "cell_type": "code",
   "execution_count": null,
   "id": "7462e9f2",
   "metadata": {},
   "outputs": [],
   "source": []
  },
  {
   "cell_type": "code",
   "execution_count": null,
   "id": "a48b3d57",
   "metadata": {},
   "outputs": [],
   "source": []
  },
  {
   "cell_type": "code",
   "execution_count": 15,
   "id": "470941d7",
   "metadata": {},
   "outputs": [],
   "source": [
    "#아이리스 선형회귀"
   ]
  },
  {
   "cell_type": "code",
   "execution_count": 13,
   "id": "c3388688",
   "metadata": {},
   "outputs": [],
   "source": [
    "from sklearn.datasets import load_iris\n",
    "iris = load_iris()"
   ]
  },
  {
   "cell_type": "code",
   "execution_count": 17,
   "id": "de4f7e0c",
   "metadata": {},
   "outputs": [
    {
     "data": {
      "text/plain": [
       "((150, 3), (150,))"
      ]
     },
     "execution_count": 17,
     "metadata": {},
     "output_type": "execute_result"
    }
   ],
   "source": [
    "X = iris.data[: , :3]\n",
    "y = iris.data[: , 3]\n",
    "X.shape, y.shape\n",
    "#가로 3줄 세로 150개의 표가 만들어 진다??? -> 이유??"
   ]
  },
  {
   "cell_type": "code",
   "execution_count": 21,
   "id": "bfd02a39",
   "metadata": {},
   "outputs": [
    {
     "data": {
      "text/plain": [
       "(3,)"
      ]
     },
     "execution_count": 21,
     "metadata": {},
     "output_type": "execute_result"
    }
   ],
   "source": [
    "W = np.random.randn(3) #가중치 값을 랜덤으로 준다 ==> 난수 3개를 뽑으라는 코드\n",
    "b = np.random.randn()\n",
    "W.shape"
   ]
  },
  {
   "cell_type": "code",
   "execution_count": 19,
   "id": "e95e317c",
   "metadata": {},
   "outputs": [
    {
     "data": {
      "text/plain": [
       "array([0.2, 0.2, 0.2, 0.2, 0.2, 0.4, 0.3, 0.2, 0.2, 0.1, 0.2, 0.2, 0.1,\n",
       "       0.1, 0.2, 0.4, 0.4, 0.3, 0.3, 0.3, 0.2, 0.4, 0.2, 0.5, 0.2, 0.2,\n",
       "       0.4, 0.2, 0.2, 0.2, 0.2, 0.4, 0.1, 0.2, 0.2, 0.2, 0.2, 0.1, 0.2,\n",
       "       0.2, 0.3, 0.3, 0.2, 0.6, 0.4, 0.3, 0.2, 0.2, 0.2, 0.2, 1.4, 1.5,\n",
       "       1.5, 1.3, 1.5, 1.3, 1.6, 1. , 1.3, 1.4, 1. , 1.5, 1. , 1.4, 1.3,\n",
       "       1.4, 1.5, 1. , 1.5, 1.1, 1.8, 1.3, 1.5, 1.2, 1.3, 1.4, 1.4, 1.7,\n",
       "       1.5, 1. , 1.1, 1. , 1.2, 1.6, 1.5, 1.6, 1.5, 1.3, 1.3, 1.3, 1.2,\n",
       "       1.4, 1.2, 1. , 1.3, 1.2, 1.3, 1.3, 1.1, 1.3, 2.5, 1.9, 2.1, 1.8,\n",
       "       2.2, 2.1, 1.7, 1.8, 1.8, 2.5, 2. , 1.9, 2.1, 2. , 2.4, 2.3, 1.8,\n",
       "       2.2, 2.3, 1.5, 2.3, 2. , 2. , 1.8, 2.1, 1.8, 1.8, 1.8, 2.1, 1.6,\n",
       "       1.9, 2. , 2.2, 1.5, 1.4, 2.3, 2.4, 1.8, 1.8, 2.1, 2.4, 2.3, 1.9,\n",
       "       2.3, 2.5, 2.3, 1.9, 2. , 2.3, 1.8])"
      ]
     },
     "execution_count": 19,
     "metadata": {},
     "output_type": "execute_result"
    }
   ],
   "source": [
    "y"
   ]
  },
  {
   "cell_type": "code",
   "execution_count": 19,
   "id": "679eabdb",
   "metadata": {},
   "outputs": [
    {
     "data": {
      "text/plain": [
       "array([-5.62911881, -5.71328124, -5.0990638 , -4.6871958 , -5.25329801,\n",
       "       -5.50850468, -4.46641825, -5.35467499, -4.55058067, -5.45645649,\n",
       "       -6.02215418, -4.70441036, -5.45686101, -4.58703238, -7.10190588,\n",
       "       -5.95561083, -6.05820137, -5.62911881, -6.39716595, -5.13349291,\n",
       "       -6.10550757, -5.25289349, -4.77731378, -5.45564745, -4.29213785,\n",
       "       -5.69485313, -5.21725082, -5.74811487, -6.00493962, -4.68679129,\n",
       "       -5.06261209, -6.38035591, -5.03171141, -5.8189957 , -5.45645649,\n",
       "       -6.00574865, -6.7922239 , -4.99687778, -4.56860426, -5.61109522,\n",
       "       -5.51012276, -5.66082853, -4.32980311, -5.09785024, -4.58379623,\n",
       "       -5.45686101, -4.99606874, -4.7052194 , -5.76573395, -5.61149974,\n",
       "       -6.32430726, -5.06063423, -5.91243927, -4.51457821, -5.65723259,\n",
       "       -3.74329493, -4.40996509, -3.81862545, -5.79425225, -3.40513939,\n",
       "       -4.27779965, -4.42960675, -5.91607993, -4.37472693, -4.60429166,\n",
       "       -6.08671966, -3.24807355, -4.66881242, -5.74179954, -4.66962146,\n",
       "       -3.36626058, -5.4560967 , -5.09032135, -4.49412751, -5.6936843 ,\n",
       "       -5.94970001, -6.15164494, -5.38157522, -4.39315504, -5.35633779,\n",
       "       -4.67002597, -4.80745015, -4.94366076, -3.80741117, -2.73523309,\n",
       "       -3.79615216, -5.67444715, -6.01624336, -3.79777023, -4.27577706,\n",
       "       -3.6066798 , -4.39275053, -4.92563717, -4.19444626, -4.01854779,\n",
       "       -3.91676629, -4.03616687, -5.18084384, -4.62433785, -4.29299162,\n",
       "       -2.62345087, -3.29457072, -5.1704386 , -3.65074986, -3.7693414 ,\n",
       "       -5.49057055, -2.05013483, -5.25298295, -4.87918473, -4.43560703,\n",
       "       -4.49250944, -4.55824375, -4.95087459, -3.41437581, -3.17517014,\n",
       "       -3.96124087, -4.18161391, -4.654362  , -5.81232057, -4.54183823,\n",
       "       -4.69364533, -2.93717802, -5.84836776, -4.8515202 , -4.0614043 ,\n",
       "       -5.0506335 , -4.61312357, -3.98047801, -4.02657066, -5.564283  ,\n",
       "       -5.9036521 , -5.57947497, -4.02657066, -4.45727128, -3.49611113,\n",
       "       -6.43411163, -3.05374697, -3.8057931 , -3.86148196, -5.22531842,\n",
       "       -4.43762962, -5.63759093, -3.29457072, -4.16237676, -4.0614043 ,\n",
       "       -5.10672688, -4.95289718, -4.59388642, -3.07217509, -3.19278922])"
      ]
     },
     "execution_count": 19,
     "metadata": {},
     "output_type": "execute_result"
    }
   ],
   "source": [
    "pred_y = X@W + b\n",
    "pred_y  #신경망의 최종 예측값 , y값을 랜덤하게 정했기 때문에 실제 y값괴 같을 수는 없다."
   ]
  },
  {
   "cell_type": "code",
   "execution_count": 24,
   "id": "e90c650b",
   "metadata": {},
   "outputs": [],
   "source": [
    "import matplotlib.pyplot as plt"
   ]
  },
  {
   "cell_type": "code",
   "execution_count": 26,
   "id": "4879b189",
   "metadata": {},
   "outputs": [
    {
     "data": {
      "text/plain": [
       "<matplotlib.legend.Legend at 0x1fa7935d280>"
      ]
     },
     "execution_count": 26,
     "metadata": {},
     "output_type": "execute_result"
    },
    {
     "data": {
      "image/png": "[encoded data removed]",
      "text/plain": [
       "<Figure size 432x288 with 1 Axes>"
      ]
     },
     "metadata": {
      "needs_background": "light"
     },
     "output_type": "display_data"
    }
   ],
   "source": [
    "plt.plot(pred_y)\n",
    "plt.plot(y)\n",
    "plt.legend(['pred_y', 'y']) \n",
    "#현재 난수로 계산 했기 때문에 실행마다 달라진다 (랜덤 값이 아닐때 신경망으로 계산한 값이랑 실제값이랑 같아야 좋다)"
   ]
  },
  {
   "cell_type": "code",
   "execution_count": null,
   "id": "89de26fc",
   "metadata": {},
   "outputs": [],
   "source": [
    "# 해결방안 (와차값을 줄이기 위한 방법)"
   ]
  },
  {
   "cell_type": "code",
   "execution_count": null,
   "id": "00316327",
   "metadata": {},
   "outputs": [],
   "source": [
    "#우리의 목표는 파란색 예측값을 실제 값(오렌지)에 가깝게 가게 만들어야 한다\n",
    "#==> 예측값은 입력값 * 가중치 + b를 더한 값이기 때문에!!!!!!!!!!!!!!!!!!!!!!!!!!!!!!!!!!!!!!!!!!!!!!!!!!!!!\n",
    "# X의 값은 고정 값이기 때문에 절편값(W) , b를 잘 뽑는게 중요하다."
   ]
  },
  {
   "cell_type": "code",
   "execution_count": null,
   "id": "05b7a3d5",
   "metadata": {},
   "outputs": [],
   "source": []
  },
  {
   "cell_type": "code",
   "execution_count": null,
   "id": "ec499c11",
   "metadata": {},
   "outputs": [],
   "source": [
    "#오차 계산법(MES == mean squared error) -> 교재 신경망 계산 사례에 예시 작성 해둠\n",
    "#\n",
    "#(실제y값 - 예측y값)을 제곱의 총합을  y의 총 갯수로 나눈다\n",
    "#하는 이유 : 제곱 하기 전에 양수가 될 수도 음수가 될 수도 있기 때문에 항상 양수로 만들기 위해서 제곱을 해준다.(그래야 계산이 편하다)"
   ]
  },
  {
   "cell_type": "code",
   "execution_count": null,
   "id": "7378dab4",
   "metadata": {},
   "outputs": [],
   "source": []
  },
  {
   "cell_type": "code",
   "execution_count": 29,
   "id": "4d405c5a",
   "metadata": {},
   "outputs": [
    {
     "data": {
      "text/plain": [
       "37.08597539132019"
      ]
     },
     "execution_count": 29,
     "metadata": {},
     "output_type": "execute_result"
    }
   ],
   "source": [
    "mse = (((y - pred_y)**2).sum())/150 #차이 난것 제곱한 것의 총합을 평균낸다\n",
    "#== mes = ((y - pred_y)**2).mean()\n",
    "mse"
   ]
  },
  {
   "cell_type": "code",
   "execution_count": null,
   "id": "f0965247",
   "metadata": {},
   "outputs": [],
   "source": []
  },
  {
   "cell_type": "code",
   "execution_count": null,
   "id": "084a5824",
   "metadata": {},
   "outputs": [],
   "source": []
  },
  {
   "cell_type": "code",
   "execution_count": null,
   "id": "58901810",
   "metadata": {},
   "outputs": [],
   "source": []
  },
  {
   "cell_type": "code",
   "execution_count": 30,
   "id": "8b6cb3f5",
   "metadata": {},
   "outputs": [],
   "source": [
    "#가중치 변경(오차값을 줄이기 위한)"
   ]
  },
  {
   "cell_type": "code",
   "execution_count": 31,
   "id": "2fdd1cb8",
   "metadata": {},
   "outputs": [
    {
     "data": {
      "text/plain": [
       "array([0.0486593 , 0.75654615, 0.83736579])"
      ]
     },
     "execution_count": 31,
     "metadata": {},
     "output_type": "execute_result"
    }
   ],
   "source": [
    "W1 = W.copy()\n",
    "W1[0] += 0.01\n",
    "W1   #가중치를 0.01을 더해준다 -"
   ]
  },
  {
   "cell_type": "code",
   "execution_count": 32,
   "id": "3987fb9b",
   "metadata": {},
   "outputs": [
    {
     "data": {
      "text/plain": [
       "14.180119362088316"
      ]
     },
     "execution_count": 32,
     "metadata": {},
     "output_type": "execute_result"
    }
   ],
   "source": [
    "pred_y = X@W1 + b\n",
    "((y - pred_y)**2).mean()  #가중치를 증가 시켰더니 오차가 증가 했기 때문에 가중치를 감소 시켜야 한다"
   ]
  },
  {
   "cell_type": "code",
   "execution_count": 33,
   "id": "4cd06da6",
   "metadata": {},
   "outputs": [
    {
     "data": {
      "text/plain": [
       "array([0.0286593 , 0.75654615, 0.83736579])"
      ]
     },
     "execution_count": 33,
     "metadata": {},
     "output_type": "execute_result"
    }
   ],
   "source": [
    "W2 = W.copy()\n",
    "W2[0] -= 0.01\n",
    "W2"
   ]
  },
  {
   "cell_type": "code",
   "execution_count": 34,
   "id": "f38544d5",
   "metadata": {},
   "outputs": [
    {
     "data": {
      "text/plain": [
       "13.308245658750396"
      ]
     },
     "execution_count": 34,
     "metadata": {},
     "output_type": "execute_result"
    }
   ],
   "source": [
    "pred_y = X@W2 + b\n",
    "((y - pred_y)**2).mean()  #이렇게 오차를 줄이고 계속 반복 하면 문제가 해결 된다."
   ]
  },
  {
   "cell_type": "code",
   "execution_count": 35,
   "id": "240249db",
   "metadata": {},
   "outputs": [],
   "source": [
    "#가우스 오차값을 줄이는 방법으로 그 방법을 계속해서 반복하자 ==> 그럼 어떤문제든 해결할 수 있다."
   ]
  },
  {
   "cell_type": "code",
   "execution_count": null,
   "id": "ab631e50",
   "metadata": {},
   "outputs": [],
   "source": []
  },
  {
   "cell_type": "code",
   "execution_count": null,
   "id": "dab179bd",
   "metadata": {},
   "outputs": [],
   "source": [
    "#####################################################################################################################################33"
   ]
  },
  {
   "cell_type": "code",
   "execution_count": null,
   "id": "92625fcf",
   "metadata": {},
   "outputs": [],
   "source": []
  },
  {
   "cell_type": "code",
   "execution_count": null,
   "id": "f1b084ff",
   "metadata": {},
   "outputs": [],
   "source": [
    "#텐서플로 설치 방법\n",
    "# 아나콘다 프롬프트 ->  pip install tensflow -> python치고 들어가서 -> import tensorflow as tf -> tf.__version__ -> 버전이 나오면 잘깔림\n",
    "# -> quit()"
   ]
  },
  {
   "cell_type": "code",
   "execution_count": null,
   "id": "9787bedb",
   "metadata": {},
   "outputs": [],
   "source": [
    "#텐서플로 사용하기"
   ]
  },
  {
   "cell_type": "code",
   "execution_count": 2,
   "id": "8059b6cd",
   "metadata": {},
   "outputs": [],
   "source": [
    "import tensorflow as tf"
   ]
  },
  {
   "cell_type": "code",
   "execution_count": 4,
   "id": "d0dd353e",
   "metadata": {},
   "outputs": [
    {
     "data": {
      "text/plain": [
       "'2.9.1'"
      ]
     },
     "execution_count": 4,
     "metadata": {},
     "output_type": "execute_result"
    }
   ],
   "source": [
    "tf.__version__ #버전 확인"
   ]
  },
  {
   "cell_type": "code",
   "execution_count": null,
   "id": "7401a9b5",
   "metadata": {},
   "outputs": [],
   "source": []
  },
  {
   "cell_type": "code",
   "execution_count": 5,
   "id": "069ccc92",
   "metadata": {},
   "outputs": [],
   "source": [
    "import numpy as np\n",
    "import matplotlib.pyplot as plt\n",
    "\n",
    "import tensorflow as tf\n",
    "from tensorflow import keras #텐스플로우 에서 케라스를 가지고 온다/ 케라스 -> 텐서플로를 사용하기 쉽게 만든 라이브러리"
   ]
  },
  {
   "cell_type": "code",
   "execution_count": 7,
   "id": "b3433124",
   "metadata": {},
   "outputs": [],
   "source": [
    "from sklearn.datasets import load_iris\n",
    "iris = load_iris()"
   ]
  },
  {
   "cell_type": "code",
   "execution_count": 99,
   "id": "aaf0e22a",
   "metadata": {},
   "outputs": [
    {
     "data": {
      "text/plain": [
       "((150, 3), (150,))"
      ]
     },
     "execution_count": 99,
     "metadata": {},
     "output_type": "execute_result"
    }
   ],
   "source": [
    "X = iris.data[: , :3] #회귀문제?? 선형회귀를 신경망으로 풀수 있는지를 보는 것\n",
    "y = iris.data[:, 3]\n",
    "X.shape, y.shape"
   ]
  },
  {
   "cell_type": "code",
   "execution_count": 9,
   "id": "99bc50c3",
   "metadata": {},
   "outputs": [
    {
     "name": "stdout",
     "output_type": "stream",
     "text": [
      "Model: \"sequential\"\n",
      "_________________________________________________________________\n",
      " Layer (type)                Output Shape              Param #   \n",
      "=================================================================\n",
      " dense (Dense)               (None, 1)                 4         \n",
      "                                                                 \n",
      "=================================================================\n",
      "Total params: 4\n",
      "Trainable params: 4\n",
      "Non-trainable params: 0\n",
      "_________________________________________________________________\n"
     ]
    }
   ],
   "source": [
    "model = keras.models.Sequential()  #신경망을 쌓아가는 것이 Sequential모델이다 큰 의미는 아니기 때문에 간단하게 생각\n",
    "model.add(keras.layers.Dense(1, input_shape=(3,)))\n",
    "#Dense는 한층올리는 과정을 의미 한다(층을 하나 집어 넣겠다. / Dense( 1 -> 츨력에 동그라미 하나,\n",
    "#                                                           input_shape=(3,) => 입력층의 동그라미가 3개 이다(한층에 동그라미가 들어감)\n",
    "# ==> 입력층 동그라미 1개, 출력층 동그라미 1개\n",
    "model.summary()"
   ]
  },
  {
   "cell_type": "code",
   "execution_count": 10,
   "id": "97a1920d",
   "metadata": {},
   "outputs": [],
   "source": [
    "model.compile(loss='mse', optimizer='sgd') #mes = 오차 , 오차를 어떻게 처리 힐지를 알려주는 코드"
   ]
  },
  {
   "cell_type": "code",
   "execution_count": 12,
   "id": "0a7a044d",
   "metadata": {},
   "outputs": [
    {
     "name": "stdout",
     "output_type": "stream",
     "text": [
      "Epoch 1/20\n",
      "5/5 [==============================] - 8s 2ms/step - loss: 1.3107\n",
      "Epoch 2/20\n",
      "5/5 [==============================] - 0s 0s/step - loss: 0.5224\n",
      "Epoch 3/20\n",
      "5/5 [==============================] - 0s 1ms/step - loss: 0.3873\n",
      "Epoch 4/20\n",
      "5/5 [==============================] - 0s 1ms/step - loss: 0.3209\n",
      "Epoch 5/20\n",
      "5/5 [==============================] - 0s 0s/step - loss: 0.2914\n",
      "Epoch 6/20\n",
      "5/5 [==============================] - 0s 1ms/step - loss: 0.2547\n",
      "Epoch 7/20\n",
      "5/5 [==============================] - 0s 2ms/step - loss: 0.2246\n",
      "Epoch 8/20\n",
      "5/5 [==============================] - 0s 2ms/step - loss: 0.2051\n",
      "Epoch 9/20\n",
      "5/5 [==============================] - 0s 2ms/step - loss: 0.2643\n",
      "Epoch 10/20\n",
      "5/5 [==============================] - 0s 1ms/step - loss: 0.1822\n",
      "Epoch 11/20\n",
      "5/5 [==============================] - 0s 936us/step - loss: 0.1794\n",
      "Epoch 12/20\n",
      "5/5 [==============================] - 0s 1ms/step - loss: 0.1880\n",
      "Epoch 13/20\n",
      "5/5 [==============================] - 0s 1ms/step - loss: 0.1701\n",
      "Epoch 14/20\n",
      "5/5 [==============================] - 0s 2ms/step - loss: 0.1574\n",
      "Epoch 15/20\n",
      "5/5 [==============================] - 0s 1ms/step - loss: 0.1746\n",
      "Epoch 16/20\n",
      "5/5 [==============================] - 0s 1ms/step - loss: 0.1755\n",
      "Epoch 17/20\n",
      "5/5 [==============================] - 0s 2ms/step - loss: 0.1492\n",
      "Epoch 18/20\n",
      "5/5 [==============================] - 0s 1ms/step - loss: 0.1491\n",
      "Epoch 19/20\n",
      "5/5 [==============================] - 0s 964us/step - loss: 0.1674\n",
      "Epoch 20/20\n",
      "5/5 [==============================] - 0s 0s/step - loss: 0.1648\n"
     ]
    },
    {
     "data": {
      "text/plain": [
       "<keras.callbacks.History at 0x1e027113d00>"
      ]
     },
     "execution_count": 12,
     "metadata": {},
     "output_type": "execute_result"
    }
   ],
   "source": [
    "model.fit(X, y, epochs=20) #epochs 20번 돌린다?  가중치 값을 한번 바꾸는 겟 ==> epochs"
   ]
  },
  {
   "cell_type": "code",
   "execution_count": null,
   "id": "dd217112",
   "metadata": {},
   "outputs": [],
   "source": []
  },
  {
   "cell_type": "code",
   "execution_count": 13,
   "id": "0aef4f2f",
   "metadata": {},
   "outputs": [],
   "source": [
    "h = model.history.history"
   ]
  },
  {
   "cell_type": "code",
   "execution_count": 14,
   "id": "424435fb",
   "metadata": {},
   "outputs": [
    {
     "data": {
      "text/plain": [
       "[<matplotlib.lines.Line2D at 0x1e029368340>]"
      ]
     },
     "execution_count": 14,
     "metadata": {},
     "output_type": "execute_result"
    },
    {
     "data": {
      "image/png": "[encoded data removed]",
      "text/plain": [
       "<Figure size 432x288 with 1 Axes>"
      ]
     },
     "metadata": {
      "needs_background": "light"
     },
     "output_type": "display_data"
    }
   ],
   "source": [
    "plt.plot(h['loss'])"
   ]
  },
  {
   "cell_type": "code",
   "execution_count": null,
   "id": "651089c4",
   "metadata": {},
   "outputs": [],
   "source": []
  },
  {
   "cell_type": "code",
   "execution_count": null,
   "id": "07fa85a3",
   "metadata": {},
   "outputs": [],
   "source": [
    "#  아래와 위의 차이는 아래는 검증을 위해 전체를 연습에 돌리는게 아니라 검증랄 것을 떼어 놓은 것?? -> 발표할때는 아래의 자료를 사용해야 한다\n",
    "# 아래는 검증 데이터, 검증 로스\n",
    "#위는 일반 로스"
   ]
  },
  {
   "cell_type": "code",
   "execution_count": 17,
   "id": "e62c004e",
   "metadata": {},
   "outputs": [
    {
     "name": "stdout",
     "output_type": "stream",
     "text": [
      "Model: \"sequential_1\"\n",
      "_________________________________________________________________\n",
      " Layer (type)                Output Shape              Param #   \n",
      "=================================================================\n",
      " dense_1 (Dense)             (None, 1)                 4         \n",
      "                                                                 \n",
      "=================================================================\n",
      "Total params: 4\n",
      "Trainable params: 4\n",
      "Non-trainable params: 0\n",
      "_________________________________________________________________\n"
     ]
    }
   ],
   "source": [
    "model = keras.models.Sequential()\n",
    "model.add(keras.layers.Dense(1, input_shape=(3, )))\n",
    "model.summary()"
   ]
  },
  {
   "cell_type": "code",
   "execution_count": 18,
   "id": "24e0fb90",
   "metadata": {},
   "outputs": [],
   "source": [
    "model.compile(loss='mse', optimizer='sgd')"
   ]
  },
  {
   "cell_type": "code",
   "execution_count": 20,
   "id": "27099567",
   "metadata": {},
   "outputs": [
    {
     "name": "stdout",
     "output_type": "stream",
     "text": [
      "Epoch 1/20\n",
      "4/4 [==============================] - 4s 962ms/step - loss: 21.6283 - val_loss: 1.6254\n",
      "Epoch 2/20\n",
      "4/4 [==============================] - 0s 23ms/step - loss: 0.6289 - val_loss: 0.6311\n",
      "Epoch 3/20\n",
      "4/4 [==============================] - 0s 25ms/step - loss: 0.5603 - val_loss: 1.7452\n",
      "Epoch 4/20\n",
      "4/4 [==============================] - 0s 23ms/step - loss: 0.3513 - val_loss: 0.4699\n",
      "Epoch 5/20\n",
      "4/4 [==============================] - 0s 21ms/step - loss: 0.2808 - val_loss: 1.2115\n",
      "Epoch 6/20\n",
      "4/4 [==============================] - 0s 21ms/step - loss: 0.2299 - val_loss: 0.3599\n",
      "Epoch 7/20\n",
      "4/4 [==============================] - 0s 22ms/step - loss: 0.1770 - val_loss: 0.4294\n",
      "Epoch 8/20\n",
      "4/4 [==============================] - 0s 22ms/step - loss: 0.1452 - val_loss: 0.5130\n",
      "Epoch 9/20\n",
      "4/4 [==============================] - 0s 18ms/step - loss: 0.1216 - val_loss: 0.4407\n",
      "Epoch 10/20\n",
      "4/4 [==============================] - 0s 22ms/step - loss: 0.1080 - val_loss: 0.5241\n",
      "Epoch 11/20\n",
      "4/4 [==============================] - 0s 19ms/step - loss: 0.1079 - val_loss: 0.2062\n",
      "Epoch 12/20\n",
      "4/4 [==============================] - 0s 23ms/step - loss: 0.0899 - val_loss: 0.3073\n",
      "Epoch 13/20\n",
      "4/4 [==============================] - 0s 23ms/step - loss: 0.0805 - val_loss: 0.3812\n",
      "Epoch 14/20\n",
      "4/4 [==============================] - 0s 19ms/step - loss: 0.0858 - val_loss: 0.3778\n",
      "Epoch 15/20\n",
      "4/4 [==============================] - 0s 21ms/step - loss: 0.0745 - val_loss: 0.3793\n",
      "Epoch 16/20\n",
      "4/4 [==============================] - 0s 21ms/step - loss: 0.0763 - val_loss: 0.3351\n",
      "Epoch 17/20\n",
      "4/4 [==============================] - 0s 21ms/step - loss: 0.0674 - val_loss: 0.2947\n",
      "Epoch 18/20\n",
      "4/4 [==============================] - 0s 22ms/step - loss: 0.0658 - val_loss: 0.2769\n",
      "Epoch 19/20\n",
      "4/4 [==============================] - 0s 20ms/step - loss: 0.0627 - val_loss: 0.2601\n",
      "Epoch 20/20\n",
      "4/4 [==============================] - 0s 21ms/step - loss: 0.0657 - val_loss: 0.1518\n"
     ]
    },
    {
     "data": {
      "text/plain": [
       "<keras.callbacks.History at 0x1e02929e5b0>"
      ]
     },
     "execution_count": 20,
     "metadata": {},
     "output_type": "execute_result"
    }
   ],
   "source": [
    "model.fit(X, y , epochs=20, validation_split=0.25) #eppchs -> 훈련 횟수"
   ]
  },
  {
   "cell_type": "code",
   "execution_count": 21,
   "id": "376e662b",
   "metadata": {},
   "outputs": [],
   "source": [
    "h = model.history.history"
   ]
  },
  {
   "cell_type": "code",
   "execution_count": 25,
   "id": "d2e5db67",
   "metadata": {},
   "outputs": [
    {
     "data": {
      "text/plain": [
       "<matplotlib.legend.Legend at 0x1e028f940a0>"
      ]
     },
     "execution_count": 25,
     "metadata": {},
     "output_type": "execute_result"
    },
    {
     "data": {
      "image/png": "[encoded data removed]",
      "text/plain": [
       "<Figure size 432x288 with 1 Axes>"
      ]
     },
     "metadata": {
      "needs_background": "light"
     },
     "output_type": "display_data"
    }
   ],
   "source": [
    "plt.plot(h['loss'])\n",
    "plt.plot(h['val_loss'])\n",
    "plt.legend(['loss', 'val_loss'])\n",
    "# plt.ylim(0, 1)"
   ]
  },
  {
   "cell_type": "code",
   "execution_count": null,
   "id": "7cadf394",
   "metadata": {},
   "outputs": [],
   "source": []
  },
  {
   "cell_type": "code",
   "execution_count": null,
   "id": "8f16f44a",
   "metadata": {},
   "outputs": [],
   "source": []
  },
  {
   "cell_type": "code",
   "execution_count": null,
   "id": "0250516e",
   "metadata": {},
   "outputs": [],
   "source": []
  },
  {
   "cell_type": "code",
   "execution_count": 26,
   "id": "021d86df",
   "metadata": {},
   "outputs": [],
   "source": [
    "#keras Dense -> 층을 쌓아가는 과정"
   ]
  },
  {
   "cell_type": "code",
   "execution_count": null,
   "id": "8b3753e9",
   "metadata": {},
   "outputs": [],
   "source": [
    "#중간층 추가 하기"
   ]
  },
  {
   "cell_type": "code",
   "execution_count": 29,
   "id": "4484fc76",
   "metadata": {},
   "outputs": [
    {
     "name": "stdout",
     "output_type": "stream",
     "text": [
      "Model: \"sequential_3\"\n",
      "_________________________________________________________________\n",
      " Layer (type)                Output Shape              Param #   \n",
      "=================================================================\n",
      " dense_2 (Dense)             (None, 2)                 8         \n",
      "                                                                 \n",
      " dense_3 (Dense)             (None, 1)                 3         \n",
      "                                                                 \n",
      "=================================================================\n",
      "Total params: 11\n",
      "Trainable params: 11\n",
      "Non-trainable params: 0\n",
      "_________________________________________________________________\n"
     ]
    }
   ],
   "source": [
    "model = keras.models.Sequential()\n",
    "model.add(keras.layers.Dense(2, input_shape=(3, ), activation='relu'))  \n",
    "#입력층 3개 , 중간 증 2개의 의미(준간층은 모잘를 씌워야한다(역할 : 나가는 값이 없으면 0으로 해서 양수만 내보낸다 --> relu))\n",
    "model.add(keras.layers.Dense(1)) #출력층 하나\n",
    "model.summary()"
   ]
  },
  {
   "cell_type": "code",
   "execution_count": 30,
   "id": "cab74c91",
   "metadata": {},
   "outputs": [],
   "source": [
    "model.compile(loss='mse', optimizer='sgd')"
   ]
  },
  {
   "cell_type": "code",
   "execution_count": 36,
   "id": "ec109c73",
   "metadata": {},
   "outputs": [
    {
     "name": "stdout",
     "output_type": "stream",
     "text": [
      "Epoch 1/100\n",
      "4/4 [==============================] - 0s 50ms/step - loss: 0.4362 - val_loss: 1.3095\n",
      "Epoch 2/100\n",
      "4/4 [==============================] - 0s 24ms/step - loss: 0.4365 - val_loss: 1.3020\n",
      "Epoch 3/100\n",
      "4/4 [==============================] - 0s 24ms/step - loss: 0.4363 - val_loss: 1.3032\n",
      "Epoch 4/100\n",
      "4/4 [==============================] - 0s 23ms/step - loss: 0.4362 - val_loss: 1.3031\n",
      "Epoch 5/100\n",
      "4/4 [==============================] - 0s 22ms/step - loss: 0.4368 - val_loss: 1.3026\n",
      "Epoch 6/100\n",
      "4/4 [==============================] - 0s 25ms/step - loss: 0.4367 - val_loss: 1.3108\n",
      "Epoch 7/100\n",
      "4/4 [==============================] - 0s 22ms/step - loss: 0.4363 - val_loss: 1.3067\n",
      "Epoch 8/100\n",
      "4/4 [==============================] - 0s 21ms/step - loss: 0.4365 - val_loss: 1.3051\n",
      "Epoch 9/100\n",
      "4/4 [==============================] - 0s 22ms/step - loss: 0.4364 - val_loss: 1.3041\n",
      "Epoch 10/100\n",
      "4/4 [==============================] - 0s 20ms/step - loss: 0.4364 - val_loss: 1.2990\n",
      "Epoch 11/100\n",
      "4/4 [==============================] - 0s 20ms/step - loss: 0.4365 - val_loss: 1.3037\n",
      "Epoch 12/100\n",
      "4/4 [==============================] - 0s 22ms/step - loss: 0.4364 - val_loss: 1.3061\n",
      "Epoch 13/100\n",
      "4/4 [==============================] - 0s 20ms/step - loss: 0.4365 - val_loss: 1.2970\n",
      "Epoch 14/100\n",
      "4/4 [==============================] - 0s 24ms/step - loss: 0.4364 - val_loss: 1.2991\n",
      "Epoch 15/100\n",
      "4/4 [==============================] - 0s 23ms/step - loss: 0.4365 - val_loss: 1.2976\n",
      "Epoch 16/100\n",
      "4/4 [==============================] - 0s 23ms/step - loss: 0.4362 - val_loss: 1.2956\n",
      "Epoch 17/100\n",
      "4/4 [==============================] - 0s 24ms/step - loss: 0.4362 - val_loss: 1.2965\n",
      "Epoch 18/100\n",
      "4/4 [==============================] - 0s 23ms/step - loss: 0.4362 - val_loss: 1.2942\n",
      "Epoch 19/100\n",
      "4/4 [==============================] - 0s 22ms/step - loss: 0.4366 - val_loss: 1.3046\n",
      "Epoch 20/100\n",
      "4/4 [==============================] - 0s 20ms/step - loss: 0.4364 - val_loss: 1.3001\n",
      "Epoch 21/100\n",
      "4/4 [==============================] - 0s 19ms/step - loss: 0.4363 - val_loss: 1.2995\n",
      "Epoch 22/100\n",
      "4/4 [==============================] - 0s 21ms/step - loss: 0.4366 - val_loss: 1.3011\n",
      "Epoch 23/100\n",
      "4/4 [==============================] - 0s 23ms/step - loss: 0.4364 - val_loss: 1.3054\n",
      "Epoch 24/100\n",
      "4/4 [==============================] - 0s 22ms/step - loss: 0.4364 - val_loss: 1.3057\n",
      "Epoch 25/100\n",
      "4/4 [==============================] - 0s 22ms/step - loss: 0.4363 - val_loss: 1.3093\n",
      "Epoch 26/100\n",
      "4/4 [==============================] - 0s 22ms/step - loss: 0.4365 - val_loss: 1.3106\n",
      "Epoch 27/100\n",
      "4/4 [==============================] - 0s 24ms/step - loss: 0.4362 - val_loss: 1.3078\n",
      "Epoch 28/100\n",
      "4/4 [==============================] - 0s 21ms/step - loss: 0.4365 - val_loss: 1.3029\n",
      "Epoch 29/100\n",
      "4/4 [==============================] - 0s 23ms/step - loss: 0.4363 - val_loss: 1.2973\n",
      "Epoch 30/100\n",
      "4/4 [==============================] - 0s 20ms/step - loss: 0.4363 - val_loss: 1.2997\n",
      "Epoch 31/100\n",
      "4/4 [==============================] - 0s 24ms/step - loss: 0.4362 - val_loss: 1.3007\n",
      "Epoch 32/100\n",
      "4/4 [==============================] - 0s 23ms/step - loss: 0.4362 - val_loss: 1.3031\n",
      "Epoch 33/100\n",
      "4/4 [==============================] - 0s 25ms/step - loss: 0.4365 - val_loss: 1.2938\n",
      "Epoch 34/100\n",
      "4/4 [==============================] - 0s 22ms/step - loss: 0.4363 - val_loss: 1.2945\n",
      "Epoch 35/100\n",
      "4/4 [==============================] - 0s 23ms/step - loss: 0.4364 - val_loss: 1.2957\n",
      "Epoch 36/100\n",
      "4/4 [==============================] - 0s 22ms/step - loss: 0.4363 - val_loss: 1.2915\n",
      "Epoch 37/100\n",
      "4/4 [==============================] - 0s 22ms/step - loss: 0.4364 - val_loss: 1.2937\n",
      "Epoch 38/100\n",
      "4/4 [==============================] - 0s 21ms/step - loss: 0.4363 - val_loss: 1.2929\n",
      "Epoch 39/100\n",
      "4/4 [==============================] - 0s 21ms/step - loss: 0.4365 - val_loss: 1.2870\n",
      "Epoch 40/100\n",
      "4/4 [==============================] - 0s 19ms/step - loss: 0.4364 - val_loss: 1.2871\n",
      "Epoch 41/100\n",
      "4/4 [==============================] - 0s 22ms/step - loss: 0.4364 - val_loss: 1.2821\n",
      "Epoch 42/100\n",
      "4/4 [==============================] - 0s 21ms/step - loss: 0.4364 - val_loss: 1.2798\n",
      "Epoch 43/100\n",
      "4/4 [==============================] - 0s 21ms/step - loss: 0.4364 - val_loss: 1.2809\n",
      "Epoch 44/100\n",
      "4/4 [==============================] - 0s 21ms/step - loss: 0.4364 - val_loss: 1.2803\n",
      "Epoch 45/100\n",
      "4/4 [==============================] - 0s 23ms/step - loss: 0.4365 - val_loss: 1.2796\n",
      "Epoch 46/100\n",
      "4/4 [==============================] - 0s 20ms/step - loss: 0.4363 - val_loss: 1.2777\n",
      "Epoch 47/100\n",
      "4/4 [==============================] - 0s 21ms/step - loss: 0.4365 - val_loss: 1.2874\n",
      "Epoch 48/100\n",
      "4/4 [==============================] - 0s 22ms/step - loss: 0.4364 - val_loss: 1.2946\n",
      "Epoch 49/100\n",
      "4/4 [==============================] - 0s 18ms/step - loss: 0.4363 - val_loss: 1.2988\n",
      "Epoch 50/100\n",
      "4/4 [==============================] - 0s 24ms/step - loss: 0.4363 - val_loss: 1.3040\n",
      "Epoch 51/100\n",
      "4/4 [==============================] - 0s 22ms/step - loss: 0.4365 - val_loss: 1.2964\n",
      "Epoch 52/100\n",
      "4/4 [==============================] - 0s 26ms/step - loss: 0.4362 - val_loss: 1.2930\n",
      "Epoch 53/100\n",
      "4/4 [==============================] - 0s 21ms/step - loss: 0.4364 - val_loss: 1.3000\n",
      "Epoch 54/100\n",
      "4/4 [==============================] - 0s 22ms/step - loss: 0.4363 - val_loss: 1.3032\n",
      "Epoch 55/100\n",
      "4/4 [==============================] - 0s 19ms/step - loss: 0.4362 - val_loss: 1.3080\n",
      "Epoch 56/100\n",
      "4/4 [==============================] - 0s 20ms/step - loss: 0.4364 - val_loss: 1.3042\n",
      "Epoch 57/100\n",
      "4/4 [==============================] - 0s 21ms/step - loss: 0.4363 - val_loss: 1.3050\n",
      "Epoch 58/100\n",
      "4/4 [==============================] - 0s 23ms/step - loss: 0.4363 - val_loss: 1.3060\n",
      "Epoch 59/100\n",
      "4/4 [==============================] - 0s 21ms/step - loss: 0.4365 - val_loss: 1.3113\n",
      "Epoch 60/100\n",
      "4/4 [==============================] - 0s 23ms/step - loss: 0.4363 - val_loss: 1.3063\n",
      "Epoch 61/100\n",
      "4/4 [==============================] - 0s 24ms/step - loss: 0.4363 - val_loss: 1.3084\n",
      "Epoch 62/100\n",
      "4/4 [==============================] - 0s 20ms/step - loss: 0.4362 - val_loss: 1.3072\n",
      "Epoch 63/100\n",
      "4/4 [==============================] - 0s 22ms/step - loss: 0.4365 - val_loss: 1.3023\n",
      "Epoch 64/100\n",
      "4/4 [==============================] - 0s 21ms/step - loss: 0.4375 - val_loss: 1.2953\n",
      "Epoch 65/100\n",
      "4/4 [==============================] - 0s 20ms/step - loss: 0.4362 - val_loss: 1.2964\n",
      "Epoch 66/100\n",
      "4/4 [==============================] - 0s 23ms/step - loss: 0.4364 - val_loss: 1.3008\n",
      "Epoch 67/100\n",
      "4/4 [==============================] - 0s 21ms/step - loss: 0.4362 - val_loss: 1.2995\n",
      "Epoch 68/100\n",
      "4/4 [==============================] - 0s 22ms/step - loss: 0.4362 - val_loss: 1.2966\n",
      "Epoch 69/100\n",
      "4/4 [==============================] - 0s 21ms/step - loss: 0.4363 - val_loss: 1.2926\n",
      "Epoch 70/100\n",
      "4/4 [==============================] - 0s 21ms/step - loss: 0.4364 - val_loss: 1.3004\n",
      "Epoch 71/100\n",
      "4/4 [==============================] - 0s 21ms/step - loss: 0.4362 - val_loss: 1.3014\n",
      "Epoch 72/100\n",
      "4/4 [==============================] - 0s 22ms/step - loss: 0.4362 - val_loss: 1.3019\n",
      "Epoch 73/100\n",
      "4/4 [==============================] - 0s 21ms/step - loss: 0.4364 - val_loss: 1.3058\n",
      "Epoch 74/100\n",
      "4/4 [==============================] - 0s 21ms/step - loss: 0.4363 - val_loss: 1.3072\n",
      "Epoch 75/100\n",
      "4/4 [==============================] - 0s 23ms/step - loss: 0.4362 - val_loss: 1.3084\n",
      "Epoch 76/100\n",
      "4/4 [==============================] - 0s 21ms/step - loss: 0.4364 - val_loss: 1.3076\n",
      "Epoch 77/100\n",
      "4/4 [==============================] - 0s 21ms/step - loss: 0.4362 - val_loss: 1.3093\n",
      "Epoch 78/100\n",
      "4/4 [==============================] - 0s 22ms/step - loss: 0.4367 - val_loss: 1.3118\n",
      "Epoch 79/100\n",
      "4/4 [==============================] - 0s 21ms/step - loss: 0.4362 - val_loss: 1.3088\n",
      "Epoch 80/100\n",
      "4/4 [==============================] - 0s 20ms/step - loss: 0.4370 - val_loss: 1.3055\n",
      "Epoch 81/100\n",
      "4/4 [==============================] - 0s 21ms/step - loss: 0.4363 - val_loss: 1.3079\n",
      "Epoch 82/100\n",
      "4/4 [==============================] - 0s 21ms/step - loss: 0.4366 - val_loss: 1.3049\n",
      "Epoch 83/100\n",
      "4/4 [==============================] - 0s 22ms/step - loss: 0.4363 - val_loss: 1.3071\n"
     ]
    },
    {
     "name": "stdout",
     "output_type": "stream",
     "text": [
      "Epoch 84/100\n",
      "4/4 [==============================] - 0s 21ms/step - loss: 0.4364 - val_loss: 1.3015\n",
      "Epoch 85/100\n",
      "4/4 [==============================] - 0s 21ms/step - loss: 0.4362 - val_loss: 1.3020\n",
      "Epoch 86/100\n",
      "4/4 [==============================] - 0s 22ms/step - loss: 0.4367 - val_loss: 1.3090\n",
      "Epoch 87/100\n",
      "4/4 [==============================] - 0s 22ms/step - loss: 0.4364 - val_loss: 1.3057\n",
      "Epoch 88/100\n",
      "4/4 [==============================] - 0s 24ms/step - loss: 0.4364 - val_loss: 1.2985\n",
      "Epoch 89/100\n",
      "4/4 [==============================] - 0s 20ms/step - loss: 0.4364 - val_loss: 1.3025\n",
      "Epoch 90/100\n",
      "4/4 [==============================] - 0s 22ms/step - loss: 0.4363 - val_loss: 1.3034\n",
      "Epoch 91/100\n",
      "4/4 [==============================] - 0s 22ms/step - loss: 0.4362 - val_loss: 1.3029\n",
      "Epoch 92/100\n",
      "4/4 [==============================] - 0s 21ms/step - loss: 0.4366 - val_loss: 1.3002\n",
      "Epoch 93/100\n",
      "4/4 [==============================] - 0s 25ms/step - loss: 0.4363 - val_loss: 1.2989\n",
      "Epoch 94/100\n",
      "4/4 [==============================] - 0s 22ms/step - loss: 0.4363 - val_loss: 1.2989\n",
      "Epoch 95/100\n",
      "4/4 [==============================] - 0s 22ms/step - loss: 0.4363 - val_loss: 1.3015\n",
      "Epoch 96/100\n",
      "4/4 [==============================] - 0s 22ms/step - loss: 0.4368 - val_loss: 1.3002\n",
      "Epoch 97/100\n",
      "4/4 [==============================] - 0s 23ms/step - loss: 0.4364 - val_loss: 1.2930\n",
      "Epoch 98/100\n",
      "4/4 [==============================] - 0s 23ms/step - loss: 0.4362 - val_loss: 1.2970\n",
      "Epoch 99/100\n",
      "4/4 [==============================] - 0s 22ms/step - loss: 0.4363 - val_loss: 1.2927\n",
      "Epoch 100/100\n",
      "4/4 [==============================] - 0s 25ms/step - loss: 0.4363 - val_loss: 1.2965\n"
     ]
    },
    {
     "data": {
      "text/plain": [
       "<keras.callbacks.History at 0x1e02a9d5100>"
      ]
     },
     "execution_count": 36,
     "metadata": {},
     "output_type": "execute_result"
    }
   ],
   "source": [
    "model.fit(X, y , epochs=100, validation_split=0.25)"
   ]
  },
  {
   "cell_type": "code",
   "execution_count": 35,
   "id": "f284be04",
   "metadata": {},
   "outputs": [
    {
     "data": {
      "text/plain": [
       "<matplotlib.legend.Legend at 0x1e02a8cf850>"
      ]
     },
     "execution_count": 35,
     "metadata": {},
     "output_type": "execute_result"
    },
    {
     "data": {
      "image/png": "[encoded data removed]",
      "text/plain": [
       "<Figure size 432x288 with 1 Axes>"
      ]
     },
     "metadata": {
      "needs_background": "light"
     },
     "output_type": "display_data"
    }
   ],
   "source": [
    "plt.plot(h['loss'])\n",
    "plt.plot(h['val_loss'])\n",
    "plt.legend(['loss', 'val_loss'])"
   ]
  },
  {
   "cell_type": "code",
   "execution_count": null,
   "id": "d6572081",
   "metadata": {},
   "outputs": [],
   "source": []
  },
  {
   "cell_type": "code",
   "execution_count": null,
   "id": "974f53c5",
   "metadata": {},
   "outputs": [],
   "source": []
  },
  {
   "cell_type": "code",
   "execution_count": null,
   "id": "64d979df",
   "metadata": {},
   "outputs": [],
   "source": []
  },
  {
   "cell_type": "code",
   "execution_count": null,
   "id": "2192f820",
   "metadata": {},
   "outputs": [],
   "source": []
  },
  {
   "cell_type": "code",
   "execution_count": 37,
   "id": "b237f32c",
   "metadata": {},
   "outputs": [],
   "source": [
    "#####"
   ]
  },
  {
   "cell_type": "code",
   "execution_count": 48,
   "id": "57528aec",
   "metadata": {},
   "outputs": [
    {
     "name": "stdout",
     "output_type": "stream",
     "text": [
      "Model: \"sequential_9\"\n",
      "_________________________________________________________________\n",
      " Layer (type)                Output Shape              Param #   \n",
      "=================================================================\n",
      " dense_10 (Dense)            (None, 10)                40        \n",
      "                                                                 \n",
      " dense_11 (Dense)            (None, 5)                 55        \n",
      "                                                                 \n",
      " dense_12 (Dense)            (None, 1)                 6         \n",
      "                                                                 \n",
      "=================================================================\n",
      "Total params: 101\n",
      "Trainable params: 101\n",
      "Non-trainable params: 0\n",
      "_________________________________________________________________\n"
     ]
    }
   ],
   "source": [
    "#설계단계\n",
    "model = keras.models.Sequential()\n",
    "model.add(keras.layers.Dense(10, input_shape=(3, ),activation='relu')) \n",
    "#입력 동그라미 3개, 중간층 동그라미 10개(중간층), 다음 중간층 동그라미 5개, 마지막 출력 층 동그라미 1개\n",
    "model.add(keras.layers.Dense(5, activation='relu'))\n",
    "#중간층은 무조건 모자를 씌운다 -> relu\n",
    "model.add(keras.layers.Dense(1))\n",
    "model.summary()"
   ]
  },
  {
   "cell_type": "code",
   "execution_count": 49,
   "id": "90c8d81d",
   "metadata": {},
   "outputs": [],
   "source": [
    "model.compile(loss='mse', optimizer='sgd')"
   ]
  },
  {
   "cell_type": "code",
   "execution_count": 50,
   "id": "295a98a6",
   "metadata": {
    "scrolled": true
   },
   "outputs": [
    {
     "name": "stdout",
     "output_type": "stream",
     "text": [
      "Epoch 1/100\n",
      "4/4 [==============================] - 1s 126ms/step - loss: 1.2418 - val_loss: 3.8853\n",
      "Epoch 2/100\n",
      "4/4 [==============================] - 0s 25ms/step - loss: 1.1132 - val_loss: 3.6275\n",
      "Epoch 3/100\n",
      "4/4 [==============================] - 0s 22ms/step - loss: 1.0100 - val_loss: 3.4062\n",
      "Epoch 4/100\n",
      "4/4 [==============================] - 0s 25ms/step - loss: 0.9251 - val_loss: 3.2096\n",
      "Epoch 5/100\n",
      "4/4 [==============================] - 0s 21ms/step - loss: 0.8535 - val_loss: 3.0352\n",
      "Epoch 6/100\n",
      "4/4 [==============================] - 0s 21ms/step - loss: 0.7931 - val_loss: 2.8811\n",
      "Epoch 7/100\n",
      "4/4 [==============================] - 0s 22ms/step - loss: 0.7417 - val_loss: 2.7327\n",
      "Epoch 8/100\n",
      "4/4 [==============================] - 0s 21ms/step - loss: 0.6952 - val_loss: 2.5988\n",
      "Epoch 9/100\n",
      "4/4 [==============================] - 0s 24ms/step - loss: 0.6558 - val_loss: 2.4835\n",
      "Epoch 10/100\n",
      "4/4 [==============================] - 0s 23ms/step - loss: 0.6233 - val_loss: 2.3774\n",
      "Epoch 11/100\n",
      "4/4 [==============================] - 0s 22ms/step - loss: 0.5953 - val_loss: 2.2808\n",
      "Epoch 12/100\n",
      "4/4 [==============================] - 0s 22ms/step - loss: 0.5717 - val_loss: 2.2012\n",
      "Epoch 13/100\n",
      "4/4 [==============================] - 0s 22ms/step - loss: 0.5529 - val_loss: 2.1238\n",
      "Epoch 14/100\n",
      "4/4 [==============================] - 0s 25ms/step - loss: 0.5355 - val_loss: 2.0454\n",
      "Epoch 15/100\n",
      "4/4 [==============================] - 0s 20ms/step - loss: 0.5197 - val_loss: 1.9808\n",
      "Epoch 16/100\n",
      "4/4 [==============================] - 0s 22ms/step - loss: 0.5068 - val_loss: 1.9145\n",
      "Epoch 17/100\n",
      "4/4 [==============================] - 0s 25ms/step - loss: 0.4949 - val_loss: 1.8604\n",
      "Epoch 18/100\n",
      "4/4 [==============================] - 0s 22ms/step - loss: 0.4856 - val_loss: 1.8141\n",
      "Epoch 19/100\n",
      "4/4 [==============================] - 0s 23ms/step - loss: 0.4783 - val_loss: 1.7696\n",
      "Epoch 20/100\n",
      "4/4 [==============================] - 0s 18ms/step - loss: 0.4718 - val_loss: 1.7301\n",
      "Epoch 21/100\n",
      "4/4 [==============================] - 0s 21ms/step - loss: 0.4665 - val_loss: 1.6937\n",
      "Epoch 22/100\n",
      "4/4 [==============================] - 0s 20ms/step - loss: 0.4619 - val_loss: 1.6664\n",
      "Epoch 23/100\n",
      "4/4 [==============================] - 0s 20ms/step - loss: 0.4586 - val_loss: 1.6327\n",
      "Epoch 24/100\n",
      "4/4 [==============================] - 0s 21ms/step - loss: 0.4548 - val_loss: 1.6005\n",
      "Epoch 25/100\n",
      "4/4 [==============================] - 0s 21ms/step - loss: 0.4520 - val_loss: 1.5635\n",
      "Epoch 26/100\n",
      "4/4 [==============================] - 0s 19ms/step - loss: 0.4480 - val_loss: 1.5397\n",
      "Epoch 27/100\n",
      "4/4 [==============================] - 0s 23ms/step - loss: 0.4464 - val_loss: 1.5152\n",
      "Epoch 28/100\n",
      "4/4 [==============================] - 0s 21ms/step - loss: 0.4442 - val_loss: 1.4950\n",
      "Epoch 29/100\n",
      "4/4 [==============================] - 0s 22ms/step - loss: 0.4428 - val_loss: 1.4813\n",
      "Epoch 30/100\n",
      "4/4 [==============================] - 0s 22ms/step - loss: 0.4419 - val_loss: 1.4634\n",
      "Epoch 31/100\n",
      "4/4 [==============================] - 0s 18ms/step - loss: 0.4410 - val_loss: 1.4569\n",
      "Epoch 32/100\n",
      "4/4 [==============================] - 0s 23ms/step - loss: 0.4407 - val_loss: 1.4411\n",
      "Epoch 33/100\n",
      "4/4 [==============================] - 0s 21ms/step - loss: 0.4399 - val_loss: 1.4278\n",
      "Epoch 34/100\n",
      "4/4 [==============================] - 0s 19ms/step - loss: 0.4391 - val_loss: 1.4178\n",
      "Epoch 35/100\n",
      "4/4 [==============================] - 0s 22ms/step - loss: 0.4389 - val_loss: 1.4049\n",
      "Epoch 36/100\n",
      "4/4 [==============================] - 0s 21ms/step - loss: 0.4381 - val_loss: 1.3938\n",
      "Epoch 37/100\n",
      "4/4 [==============================] - 0s 25ms/step - loss: 0.4381 - val_loss: 1.3875\n",
      "Epoch 38/100\n",
      "4/4 [==============================] - 0s 24ms/step - loss: 0.4375 - val_loss: 1.3808\n",
      "Epoch 39/100\n",
      "4/4 [==============================] - 0s 21ms/step - loss: 0.4376 - val_loss: 1.3647\n",
      "Epoch 40/100\n",
      "4/4 [==============================] - 0s 21ms/step - loss: 0.4369 - val_loss: 1.3576\n",
      "Epoch 41/100\n",
      "4/4 [==============================] - 0s 20ms/step - loss: 0.4368 - val_loss: 1.3512\n",
      "Epoch 42/100\n",
      "4/4 [==============================] - 0s 22ms/step - loss: 0.4367 - val_loss: 1.3501\n",
      "Epoch 43/100\n",
      "4/4 [==============================] - 0s 19ms/step - loss: 0.4366 - val_loss: 1.3505\n",
      "Epoch 44/100\n",
      "4/4 [==============================] - 0s 20ms/step - loss: 0.4369 - val_loss: 1.3454\n",
      "Epoch 45/100\n",
      "4/4 [==============================] - 0s 22ms/step - loss: 0.4368 - val_loss: 1.3421\n",
      "Epoch 46/100\n",
      "4/4 [==============================] - 0s 21ms/step - loss: 0.4364 - val_loss: 1.3369\n",
      "Epoch 47/100\n",
      "4/4 [==============================] - 0s 23ms/step - loss: 0.4368 - val_loss: 1.3425\n",
      "Epoch 48/100\n",
      "4/4 [==============================] - 0s 22ms/step - loss: 0.4366 - val_loss: 1.3394\n",
      "Epoch 49/100\n",
      "4/4 [==============================] - 0s 22ms/step - loss: 0.4367 - val_loss: 1.3337\n",
      "Epoch 50/100\n",
      "4/4 [==============================] - 0s 21ms/step - loss: 0.4364 - val_loss: 1.3319\n",
      "Epoch 51/100\n",
      "4/4 [==============================] - 0s 19ms/step - loss: 0.4363 - val_loss: 1.3289\n",
      "Epoch 52/100\n",
      "4/4 [==============================] - 0s 22ms/step - loss: 0.4362 - val_loss: 1.3254\n",
      "Epoch 53/100\n",
      "4/4 [==============================] - 0s 19ms/step - loss: 0.4363 - val_loss: 1.3234\n",
      "Epoch 54/100\n",
      "4/4 [==============================] - 0s 22ms/step - loss: 0.4363 - val_loss: 1.3195\n",
      "Epoch 55/100\n",
      "4/4 [==============================] - 0s 21ms/step - loss: 0.4364 - val_loss: 1.3142\n",
      "Epoch 56/100\n",
      "4/4 [==============================] - 0s 21ms/step - loss: 0.4366 - val_loss: 1.3103\n",
      "Epoch 57/100\n",
      "4/4 [==============================] - 0s 21ms/step - loss: 0.4363 - val_loss: 1.3046\n",
      "Epoch 58/100\n",
      "4/4 [==============================] - 0s 20ms/step - loss: 0.4361 - val_loss: 1.3004\n",
      "Epoch 59/100\n",
      "4/4 [==============================] - 0s 19ms/step - loss: 0.4364 - val_loss: 1.2942\n",
      "Epoch 60/100\n",
      "4/4 [==============================] - 0s 22ms/step - loss: 0.4359 - val_loss: 1.2951\n",
      "Epoch 61/100\n",
      "4/4 [==============================] - 0s 23ms/step - loss: 0.4358 - val_loss: 1.2937\n",
      "Epoch 62/100\n",
      "4/4 [==============================] - 0s 21ms/step - loss: 0.4355 - val_loss: 1.2924\n",
      "Epoch 63/100\n",
      "4/4 [==============================] - 0s 20ms/step - loss: 0.4342 - val_loss: 1.2970\n",
      "Epoch 64/100\n",
      "4/4 [==============================] - 0s 23ms/step - loss: 0.4319 - val_loss: 1.3115\n",
      "Epoch 65/100\n",
      "4/4 [==============================] - 0s 24ms/step - loss: 0.4286 - val_loss: 1.3085\n",
      "Epoch 66/100\n",
      "4/4 [==============================] - 0s 20ms/step - loss: 0.4243 - val_loss: 1.3012\n",
      "Epoch 67/100\n",
      "4/4 [==============================] - 0s 23ms/step - loss: 0.4204 - val_loss: 1.3005\n",
      "Epoch 68/100\n",
      "4/4 [==============================] - 0s 21ms/step - loss: 0.4164 - val_loss: 1.2966\n",
      "Epoch 69/100\n",
      "4/4 [==============================] - 0s 21ms/step - loss: 0.4130 - val_loss: 1.2884\n",
      "Epoch 70/100\n",
      "4/4 [==============================] - 0s 21ms/step - loss: 0.4103 - val_loss: 1.2982\n",
      "Epoch 71/100\n",
      "4/4 [==============================] - 0s 22ms/step - loss: 0.4053 - val_loss: 1.2926\n",
      "Epoch 72/100\n",
      "4/4 [==============================] - 0s 23ms/step - loss: 0.4017 - val_loss: 1.3168\n",
      "Epoch 73/100\n",
      "4/4 [==============================] - 0s 19ms/step - loss: 0.3978 - val_loss: 1.2917\n",
      "Epoch 74/100\n",
      "4/4 [==============================] - 0s 24ms/step - loss: 0.3921 - val_loss: 1.2970\n",
      "Epoch 75/100\n",
      "4/4 [==============================] - 0s 19ms/step - loss: 0.3873 - val_loss: 1.3127\n",
      "Epoch 76/100\n",
      "4/4 [==============================] - 0s 21ms/step - loss: 0.3831 - val_loss: 1.2770\n",
      "Epoch 77/100\n",
      "4/4 [==============================] - 0s 23ms/step - loss: 0.3753 - val_loss: 1.2646\n",
      "Epoch 78/100\n",
      "4/4 [==============================] - 0s 24ms/step - loss: 0.3694 - val_loss: 1.2824\n",
      "Epoch 79/100\n",
      "4/4 [==============================] - 0s 21ms/step - loss: 0.3629 - val_loss: 1.2595\n",
      "Epoch 80/100\n",
      "4/4 [==============================] - 0s 21ms/step - loss: 0.3552 - val_loss: 1.2565\n",
      "Epoch 81/100\n",
      "4/4 [==============================] - 0s 22ms/step - loss: 0.3470 - val_loss: 1.2417\n",
      "Epoch 82/100\n",
      "4/4 [==============================] - 0s 22ms/step - loss: 0.3401 - val_loss: 1.2093\n",
      "Epoch 83/100\n",
      "4/4 [==============================] - 0s 23ms/step - loss: 0.3324 - val_loss: 1.2049\n"
     ]
    },
    {
     "name": "stdout",
     "output_type": "stream",
     "text": [
      "Epoch 84/100\n",
      "4/4 [==============================] - 0s 20ms/step - loss: 0.3243 - val_loss: 1.1834\n",
      "Epoch 85/100\n",
      "4/4 [==============================] - 0s 22ms/step - loss: 0.3146 - val_loss: 1.1783\n",
      "Epoch 86/100\n",
      "4/4 [==============================] - 0s 20ms/step - loss: 0.3045 - val_loss: 1.1784\n",
      "Epoch 87/100\n",
      "4/4 [==============================] - 0s 20ms/step - loss: 0.2954 - val_loss: 1.1706\n",
      "Epoch 88/100\n",
      "4/4 [==============================] - 0s 22ms/step - loss: 0.2846 - val_loss: 1.1526\n",
      "Epoch 89/100\n",
      "4/4 [==============================] - 0s 23ms/step - loss: 0.2771 - val_loss: 1.1261\n",
      "Epoch 90/100\n",
      "4/4 [==============================] - 0s 21ms/step - loss: 0.2650 - val_loss: 1.1229\n",
      "Epoch 91/100\n",
      "4/4 [==============================] - 0s 22ms/step - loss: 0.2554 - val_loss: 1.0990\n",
      "Epoch 92/100\n",
      "4/4 [==============================] - 0s 22ms/step - loss: 0.2462 - val_loss: 1.0905\n",
      "Epoch 93/100\n",
      "4/4 [==============================] - 0s 24ms/step - loss: 0.2396 - val_loss: 1.0731\n",
      "Epoch 94/100\n",
      "4/4 [==============================] - 0s 20ms/step - loss: 0.2282 - val_loss: 1.0604\n",
      "Epoch 95/100\n",
      "4/4 [==============================] - 0s 19ms/step - loss: 0.2205 - val_loss: 1.0419\n",
      "Epoch 96/100\n",
      "4/4 [==============================] - 0s 23ms/step - loss: 0.2126 - val_loss: 1.0232\n",
      "Epoch 97/100\n",
      "4/4 [==============================] - 0s 22ms/step - loss: 0.2046 - val_loss: 1.0032\n",
      "Epoch 98/100\n",
      "4/4 [==============================] - 0s 22ms/step - loss: 0.1976 - val_loss: 0.9817\n",
      "Epoch 99/100\n",
      "4/4 [==============================] - 0s 21ms/step - loss: 0.1896 - val_loss: 0.9610\n",
      "Epoch 100/100\n",
      "4/4 [==============================] - 0s 19ms/step - loss: 0.1829 - val_loss: 0.9418\n"
     ]
    },
    {
     "data": {
      "text/plain": [
       "<keras.callbacks.History at 0x1e02d0cadc0>"
      ]
     },
     "execution_count": 50,
     "metadata": {},
     "output_type": "execute_result"
    }
   ],
   "source": [
    "model.fit(X, y, epochs=100, validation_split=0.25)"
   ]
  },
  {
   "cell_type": "code",
   "execution_count": 51,
   "id": "ca13158c",
   "metadata": {},
   "outputs": [
    {
     "data": {
      "text/plain": [
       "<matplotlib.legend.Legend at 0x1e02d27ae50>"
      ]
     },
     "execution_count": 51,
     "metadata": {},
     "output_type": "execute_result"
    },
    {
     "data": {
      "image/png": "[encoded data removed]",
      "text/plain": [
       "<Figure size 432x288 with 1 Axes>"
      ]
     },
     "metadata": {
      "needs_background": "light"
     },
     "output_type": "display_data"
    }
   ],
   "source": [
    "plt.plot(h['loss'])\n",
    "plt.plot(h['val_loss'])\n",
    "plt.legend(['loss', 'val_loss'])\n",
    "#오렌지색이 올라 욌다는 것은 훈련을 너무 많이 시켰다는 의미?? 많이 시킨다고 좋은 것은 아니다."
   ]
  },
  {
   "cell_type": "code",
   "execution_count": null,
   "id": "8cd44080",
   "metadata": {},
   "outputs": [],
   "source": []
  },
  {
   "cell_type": "code",
   "execution_count": null,
   "id": "4b494c9b",
   "metadata": {},
   "outputs": [],
   "source": []
  },
  {
   "cell_type": "code",
   "execution_count": null,
   "id": "dc868439",
   "metadata": {},
   "outputs": [],
   "source": []
  },
  {
   "cell_type": "code",
   "execution_count": null,
   "id": "b4595ea4",
   "metadata": {},
   "outputs": [],
   "source": []
  },
  {
   "cell_type": "code",
   "execution_count": null,
   "id": "5dcc39fe",
   "metadata": {},
   "outputs": [],
   "source": [
    "##################################################################################################################################"
   ]
  },
  {
   "cell_type": "code",
   "execution_count": 52,
   "id": "39d6369c",
   "metadata": {},
   "outputs": [],
   "source": [
    "#병원에 환자가 오면 암인지 아닌지를 판별하면 수치가 나오는데 이제 iris데이터가 아닌 다른 데이터 해보기"
   ]
  },
  {
   "cell_type": "code",
   "execution_count": 169,
   "id": "00598cbb",
   "metadata": {},
   "outputs": [],
   "source": [
    "import numpy as np\n",
    "import pandas as pd\n",
    "import matplotlib.pyplot as plt"
   ]
  },
  {
   "cell_type": "code",
   "execution_count": 185,
   "id": "7283892c",
   "metadata": {},
   "outputs": [],
   "source": [
    "from sklearn.datasets import load_breast_cancer\n",
    "cancer = load_breast_cancer()\n",
    "\n",
    "# 0이암 1이 정상"
   ]
  },
  {
   "cell_type": "code",
   "execution_count": 186,
   "id": "3abda702",
   "metadata": {},
   "outputs": [
    {
     "data": {
      "text/plain": [
       "((569, 30), (569,))"
      ]
     },
     "execution_count": 186,
     "metadata": {},
     "output_type": "execute_result"
    }
   ],
   "source": [
    "X  = cancer.data     # X값은 객체?? 데이터\n",
    "y = cancer.target    #\n",
    "X.shape, y.shape\n",
    "\n",
    "#목표는 y를 맞추는 것 따라서 신경만을 설계할때는 "
   ]
  },
  {
   "cell_type": "code",
   "execution_count": 187,
   "id": "88fd017f",
   "metadata": {},
   "outputs": [
    {
     "data": {
      "text/plain": [
       "array(['malignant', 'benign'], dtype='<U9')"
      ]
     },
     "execution_count": 187,
     "metadata": {},
     "output_type": "execute_result"
    }
   ],
   "source": [
    "cancer.target_names"
   ]
  },
  {
   "cell_type": "code",
   "execution_count": 188,
   "id": "e5e95f25",
   "metadata": {},
   "outputs": [
    {
     "data": {
      "text/plain": [
       "array([0, 0, 0, 0, 0, 0, 0, 0, 0, 0, 0, 0, 0, 0, 0, 0, 0, 0, 0, 1, 1, 1,\n",
       "       0, 0, 0, 0, 0, 0, 0, 0, 0, 0, 0, 0, 0, 0, 0, 1, 0, 0, 0, 0, 0, 0,\n",
       "       0, 0, 1, 0, 1, 1, 1, 1, 1, 0, 0, 1, 0, 0, 1, 1, 1, 1, 0, 1, 0, 0,\n",
       "       1, 1, 1, 1, 0, 1, 0, 0, 1, 0, 1, 0, 0, 1, 1, 1, 0, 0, 1, 0, 0, 0,\n",
       "       1, 1, 1, 0, 1, 1, 0, 0, 1, 1, 1, 0, 0, 1, 1, 1, 1, 0, 1, 1, 0, 1,\n",
       "       1, 1, 1, 1, 1, 1, 1, 0, 0, 0, 1, 0, 0, 1, 1, 1, 0, 0, 1, 0, 1, 0,\n",
       "       0, 1, 0, 0, 1, 1, 0, 1, 1, 0, 1, 1, 1, 1, 0, 1, 1, 1, 1, 1, 1, 1,\n",
       "       1, 1, 0, 1, 1, 1, 1, 0, 0, 1, 0, 1, 1, 0, 0, 1, 1, 0, 0, 1, 1, 1,\n",
       "       1, 0, 1, 1, 0, 0, 0, 1, 0, 1, 0, 1, 1, 1, 0, 1, 1, 0, 0, 1, 0, 0,\n",
       "       0, 0, 1, 0, 0, 0, 1, 0, 1, 0, 1, 1, 0, 1, 0, 0, 0, 0, 1, 1, 0, 0,\n",
       "       1, 1, 1, 0, 1, 1, 1, 1, 1, 0, 0, 1, 1, 0, 1, 1, 0, 0, 1, 0, 1, 1,\n",
       "       1, 1, 0, 1, 1, 1, 1, 1, 0, 1, 0, 0, 0, 0, 0, 0, 0, 0, 0, 0, 0, 0,\n",
       "       0, 0, 1, 1, 1, 1, 1, 1, 0, 1, 0, 1, 1, 0, 1, 1, 0, 1, 0, 0, 1, 1,\n",
       "       1, 1, 1, 1, 1, 1, 1, 1, 1, 1, 1, 0, 1, 1, 0, 1, 0, 1, 1, 1, 1, 1,\n",
       "       1, 1, 1, 1, 1, 1, 1, 1, 1, 0, 1, 1, 1, 0, 1, 0, 1, 1, 1, 1, 0, 0,\n",
       "       0, 1, 1, 1, 1, 0, 1, 0, 1, 0, 1, 1, 1, 0, 1, 1, 1, 1, 1, 1, 1, 0,\n",
       "       0, 0, 1, 1, 1, 1, 1, 1, 1, 1, 1, 1, 1, 0, 0, 1, 0, 0, 0, 1, 0, 0,\n",
       "       1, 1, 1, 1, 1, 0, 1, 1, 1, 1, 1, 0, 1, 1, 1, 0, 1, 1, 0, 0, 1, 1,\n",
       "       1, 1, 1, 1, 0, 1, 1, 1, 1, 1, 1, 1, 0, 1, 1, 1, 1, 1, 0, 1, 1, 0,\n",
       "       1, 1, 1, 1, 1, 1, 1, 1, 1, 1, 1, 1, 0, 1, 0, 0, 1, 0, 1, 1, 1, 1,\n",
       "       1, 0, 1, 1, 0, 1, 0, 1, 1, 0, 1, 0, 1, 1, 1, 1, 1, 1, 1, 1, 0, 0,\n",
       "       1, 1, 1, 1, 1, 1, 0, 1, 1, 1, 1, 1, 1, 1, 1, 1, 1, 0, 1, 1, 1, 1,\n",
       "       1, 1, 1, 0, 1, 0, 1, 1, 0, 1, 1, 1, 1, 1, 0, 0, 1, 0, 1, 0, 1, 1,\n",
       "       1, 1, 1, 0, 1, 1, 0, 1, 0, 1, 0, 0, 1, 1, 1, 0, 1, 1, 1, 1, 1, 1,\n",
       "       1, 1, 1, 1, 1, 0, 1, 0, 0, 1, 1, 1, 1, 1, 1, 1, 1, 1, 1, 1, 1, 1,\n",
       "       1, 1, 1, 1, 1, 1, 1, 1, 1, 1, 1, 1, 0, 0, 0, 0, 0, 0, 1])"
      ]
     },
     "execution_count": 188,
     "metadata": {},
     "output_type": "execute_result"
    }
   ],
   "source": [
    "y"
   ]
  },
  {
   "cell_type": "code",
   "execution_count": null,
   "id": "ebeebd43",
   "metadata": {},
   "outputs": [],
   "source": []
  },
  {
   "cell_type": "code",
   "execution_count": 189,
   "id": "7b600607",
   "metadata": {},
   "outputs": [
    {
     "data": {
      "image/png": "[encoded data removed]",
      "text/plain": [
       "<Figure size 432x288 with 1 Axes>"
      ]
     },
     "metadata": {
      "needs_background": "light"
     },
     "output_type": "display_data"
    }
   ],
   "source": [
    "plt.boxplot(X); pass #속성이 30가지인데 이 값들이 어떻게 분포 되어 있는지 보는 것"
   ]
  },
  {
   "cell_type": "code",
   "execution_count": 175,
   "id": "6d604300",
   "metadata": {},
   "outputs": [],
   "source": [
    "# 4번ㅉ0 24번째 속성이 너무 크기 때문에 키를 맞추는 과정을 해주어야 한다 ==> 정규화 과정\n",
    "#키, 몸무게.... 비슷하게 맞추어 주는 방법 - > 모든 값을 0(최소값)하고 1(최대값)사이로 하는 것  \n",
    "# ==> 더 좋은 방법 평균을 0으로 하는것 -1에서 1을 분포로 한다 ==> 표준분포"
   ]
  },
  {
   "cell_type": "code",
   "execution_count": 190,
   "id": "3eb678a8",
   "metadata": {
    "scrolled": true
   },
   "outputs": [
    {
     "data": {
      "text/plain": [
       "(569, 30)"
      ]
     },
     "execution_count": 190,
     "metadata": {},
     "output_type": "execute_result"
    }
   ],
   "source": [
    "#정규회를 적용\n",
    "X_norm = (X-X.mean(axis=0))/X.mean(axis=0) # axis=0인게 과목별 평균을 내야 하기 때문에 이렇게 했다.\n",
    "X_norm.shape"
   ]
  },
  {
   "cell_type": "code",
   "execution_count": null,
   "id": "d525b58e",
   "metadata": {},
   "outputs": [],
   "source": []
  },
  {
   "cell_type": "code",
   "execution_count": 177,
   "id": "96ed9b30",
   "metadata": {},
   "outputs": [],
   "source": [
    "#표준편차 평균에서 대략 얼마정도 왔다갔다 하느냐 라고 생각 -"
   ]
  },
  {
   "cell_type": "code",
   "execution_count": 191,
   "id": "38537736",
   "metadata": {
    "scrolled": true
   },
   "outputs": [
    {
     "name": "stdout",
     "output_type": "stream",
     "text": [
      "Model: \"sequential_21\"\n",
      "_________________________________________________________________\n",
      " Layer (type)                Output Shape              Param #   \n",
      "=================================================================\n",
      " dense_32 (Dense)            (None, 10)                310       \n",
      "                                                                 \n",
      " dense_33 (Dense)            (None, 1)                 11        \n",
      "                                                                 \n",
      "=================================================================\n",
      "Total params: 321\n",
      "Trainable params: 321\n",
      "Non-trainable params: 0\n",
      "_________________________________________________________________\n"
     ]
    }
   ],
   "source": [
    "#모델만들기\n",
    "\n",
    "import tensorflow as tf\n",
    "from tensorflow import keras\n",
    "\n",
    "model = keras.models.Sequential()\n",
    "model.add(keras.layers.Dense(10, input_shape=(30,), activation='relu'))\n",
    "model.add(keras.layers.Dense(1, activation='sigmoid')) \n",
    "#마지막 확률값이 하나가 나와야 암인지 아닌지 확인, 마지막 출력 모드에 sigmoid를 넣어준다(0과 1사이를 나오게 하기 위해서??)\n",
    "model.summary()"
   ]
  },
  {
   "cell_type": "code",
   "execution_count": 192,
   "id": "467e6fe1",
   "metadata": {},
   "outputs": [
    {
     "data": {
      "text/plain": [
       "0.35667494393873245"
      ]
     },
     "execution_count": 192,
     "metadata": {},
     "output_type": "execute_result"
    }
   ],
   "source": [
    "-np.log(0.7)  #오차 중요 X 대략적으로 계산하는게 ->binary_crossentropy(오차 함수)"
   ]
  },
  {
   "cell_type": "code",
   "execution_count": 193,
   "id": "84b95512",
   "metadata": {},
   "outputs": [],
   "source": [
    "model.compile(loss='binary_crossentropy', optimizer='sgd', metrics=['acc']) \n",
    "#확률값을 사용할때는 binary_crossentropy를 사용한다\n",
    "#optimizer='sgd'"
   ]
  },
  {
   "cell_type": "code",
   "execution_count": 194,
   "id": "9c247e8a",
   "metadata": {
    "scrolled": true
   },
   "outputs": [
    {
     "name": "stdout",
     "output_type": "stream",
     "text": [
      "Epoch 1/100\n",
      "14/14 [==============================] - 0s 13ms/step - loss: 0.6073 - acc: 0.7606 - val_loss: 0.6252 - val_acc: 0.7273\n",
      "Epoch 2/100\n",
      "14/14 [==============================] - 0s 3ms/step - loss: 0.5680 - acc: 0.8099 - val_loss: 0.5797 - val_acc: 0.7692\n",
      "Epoch 3/100\n",
      "14/14 [==============================] - 0s 4ms/step - loss: 0.5349 - acc: 0.8310 - val_loss: 0.5419 - val_acc: 0.7692\n",
      "Epoch 4/100\n",
      "14/14 [==============================] - 0s 4ms/step - loss: 0.5067 - acc: 0.8310 - val_loss: 0.5099 - val_acc: 0.8112\n",
      "Epoch 5/100\n",
      "14/14 [==============================] - 0s 3ms/step - loss: 0.4821 - acc: 0.8404 - val_loss: 0.4824 - val_acc: 0.8252\n",
      "Epoch 6/100\n",
      "14/14 [==============================] - 0s 3ms/step - loss: 0.4605 - acc: 0.8568 - val_loss: 0.4571 - val_acc: 0.8392\n",
      "Epoch 7/100\n",
      "14/14 [==============================] - 0s 4ms/step - loss: 0.4411 - acc: 0.8685 - val_loss: 0.4342 - val_acc: 0.8601\n",
      "Epoch 8/100\n",
      "14/14 [==============================] - 0s 3ms/step - loss: 0.4229 - acc: 0.8709 - val_loss: 0.4141 - val_acc: 0.8601\n",
      "Epoch 9/100\n",
      "14/14 [==============================] - 0s 3ms/step - loss: 0.4065 - acc: 0.8779 - val_loss: 0.3961 - val_acc: 0.8741\n",
      "Epoch 10/100\n",
      "14/14 [==============================] - 0s 3ms/step - loss: 0.3911 - acc: 0.8850 - val_loss: 0.3800 - val_acc: 0.8811\n",
      "Epoch 11/100\n",
      "14/14 [==============================] - 0s 3ms/step - loss: 0.3773 - acc: 0.8850 - val_loss: 0.3645 - val_acc: 0.8881\n",
      "Epoch 12/100\n",
      "14/14 [==============================] - 0s 3ms/step - loss: 0.3646 - acc: 0.8920 - val_loss: 0.3510 - val_acc: 0.8951\n",
      "Epoch 13/100\n",
      "14/14 [==============================] - 0s 3ms/step - loss: 0.3528 - acc: 0.8944 - val_loss: 0.3388 - val_acc: 0.9021\n",
      "Epoch 14/100\n",
      "14/14 [==============================] - 0s 3ms/step - loss: 0.3421 - acc: 0.8967 - val_loss: 0.3268 - val_acc: 0.9161\n",
      "Epoch 15/100\n",
      "14/14 [==============================] - 0s 3ms/step - loss: 0.3317 - acc: 0.8991 - val_loss: 0.3161 - val_acc: 0.9161\n",
      "Epoch 16/100\n",
      "14/14 [==============================] - 0s 3ms/step - loss: 0.3219 - acc: 0.8991 - val_loss: 0.3064 - val_acc: 0.9231\n",
      "Epoch 17/100\n",
      "14/14 [==============================] - 0s 3ms/step - loss: 0.3128 - acc: 0.9061 - val_loss: 0.2973 - val_acc: 0.9301\n",
      "Epoch 18/100\n",
      "14/14 [==============================] - 0s 3ms/step - loss: 0.3042 - acc: 0.9108 - val_loss: 0.2886 - val_acc: 0.9301\n",
      "Epoch 19/100\n",
      "14/14 [==============================] - 0s 3ms/step - loss: 0.2962 - acc: 0.9131 - val_loss: 0.2802 - val_acc: 0.9301\n",
      "Epoch 20/100\n",
      "14/14 [==============================] - 0s 3ms/step - loss: 0.2884 - acc: 0.9131 - val_loss: 0.2729 - val_acc: 0.9301\n",
      "Epoch 21/100\n",
      "14/14 [==============================] - 0s 3ms/step - loss: 0.2813 - acc: 0.9155 - val_loss: 0.2660 - val_acc: 0.9301\n",
      "Epoch 22/100\n",
      "14/14 [==============================] - 0s 3ms/step - loss: 0.2747 - acc: 0.9155 - val_loss: 0.2600 - val_acc: 0.9371\n",
      "Epoch 23/100\n",
      "14/14 [==============================] - 0s 4ms/step - loss: 0.2683 - acc: 0.9155 - val_loss: 0.2535 - val_acc: 0.9371\n",
      "Epoch 24/100\n",
      "14/14 [==============================] - 0s 3ms/step - loss: 0.2621 - acc: 0.9155 - val_loss: 0.2477 - val_acc: 0.9371\n",
      "Epoch 25/100\n",
      "14/14 [==============================] - 0s 3ms/step - loss: 0.2563 - acc: 0.9155 - val_loss: 0.2421 - val_acc: 0.9371\n",
      "Epoch 26/100\n",
      "14/14 [==============================] - 0s 2ms/step - loss: 0.2508 - acc: 0.9178 - val_loss: 0.2368 - val_acc: 0.9371\n",
      "Epoch 27/100\n",
      "14/14 [==============================] - 0s 2ms/step - loss: 0.2456 - acc: 0.9178 - val_loss: 0.2318 - val_acc: 0.9371\n",
      "Epoch 28/100\n",
      "14/14 [==============================] - 0s 2ms/step - loss: 0.2406 - acc: 0.9225 - val_loss: 0.2270 - val_acc: 0.9371\n",
      "Epoch 29/100\n",
      "14/14 [==============================] - 0s 2ms/step - loss: 0.2359 - acc: 0.9202 - val_loss: 0.2226 - val_acc: 0.9441\n",
      "Epoch 30/100\n",
      "14/14 [==============================] - 0s 3ms/step - loss: 0.2313 - acc: 0.9202 - val_loss: 0.2180 - val_acc: 0.9510\n",
      "Epoch 31/100\n",
      "14/14 [==============================] - 0s 3ms/step - loss: 0.2268 - acc: 0.9225 - val_loss: 0.2138 - val_acc: 0.9510\n",
      "Epoch 32/100\n",
      "14/14 [==============================] - 0s 3ms/step - loss: 0.2226 - acc: 0.9225 - val_loss: 0.2097 - val_acc: 0.9510\n",
      "Epoch 33/100\n",
      "14/14 [==============================] - 0s 2ms/step - loss: 0.2186 - acc: 0.9225 - val_loss: 0.2059 - val_acc: 0.9510\n",
      "Epoch 34/100\n",
      "14/14 [==============================] - 0s 4ms/step - loss: 0.2147 - acc: 0.9202 - val_loss: 0.2022 - val_acc: 0.9510\n",
      "Epoch 35/100\n",
      "14/14 [==============================] - 0s 4ms/step - loss: 0.2110 - acc: 0.9202 - val_loss: 0.1989 - val_acc: 0.9510\n",
      "Epoch 36/100\n",
      "14/14 [==============================] - 0s 4ms/step - loss: 0.2075 - acc: 0.9202 - val_loss: 0.1956 - val_acc: 0.9510\n",
      "Epoch 37/100\n",
      "14/14 [==============================] - 0s 3ms/step - loss: 0.2041 - acc: 0.9202 - val_loss: 0.1925 - val_acc: 0.9510\n",
      "Epoch 38/100\n",
      "14/14 [==============================] - 0s 3ms/step - loss: 0.2008 - acc: 0.9202 - val_loss: 0.1893 - val_acc: 0.9510\n",
      "Epoch 39/100\n",
      "14/14 [==============================] - 0s 3ms/step - loss: 0.1976 - acc: 0.9202 - val_loss: 0.1864 - val_acc: 0.9510\n",
      "Epoch 40/100\n",
      "14/14 [==============================] - 0s 4ms/step - loss: 0.1946 - acc: 0.9202 - val_loss: 0.1835 - val_acc: 0.9510\n",
      "Epoch 41/100\n",
      "14/14 [==============================] - 0s 3ms/step - loss: 0.1917 - acc: 0.9225 - val_loss: 0.1807 - val_acc: 0.9510\n",
      "Epoch 42/100\n",
      "14/14 [==============================] - 0s 3ms/step - loss: 0.1888 - acc: 0.9249 - val_loss: 0.1781 - val_acc: 0.9580\n",
      "Epoch 43/100\n",
      "14/14 [==============================] - 0s 4ms/step - loss: 0.1860 - acc: 0.9249 - val_loss: 0.1759 - val_acc: 0.9580\n",
      "Epoch 44/100\n",
      "14/14 [==============================] - 0s 4ms/step - loss: 0.1834 - acc: 0.9272 - val_loss: 0.1736 - val_acc: 0.9580\n",
      "Epoch 45/100\n",
      "14/14 [==============================] - 0s 3ms/step - loss: 0.1808 - acc: 0.9272 - val_loss: 0.1713 - val_acc: 0.9580\n",
      "Epoch 46/100\n",
      "14/14 [==============================] - 0s 4ms/step - loss: 0.1784 - acc: 0.9272 - val_loss: 0.1691 - val_acc: 0.9580\n",
      "Epoch 47/100\n",
      "14/14 [==============================] - 0s 4ms/step - loss: 0.1760 - acc: 0.9272 - val_loss: 0.1669 - val_acc: 0.9580\n",
      "Epoch 48/100\n",
      "14/14 [==============================] - 0s 3ms/step - loss: 0.1737 - acc: 0.9296 - val_loss: 0.1650 - val_acc: 0.9580\n",
      "Epoch 49/100\n",
      "14/14 [==============================] - 0s 3ms/step - loss: 0.1715 - acc: 0.9319 - val_loss: 0.1633 - val_acc: 0.9580\n",
      "Epoch 50/100\n",
      "14/14 [==============================] - 0s 3ms/step - loss: 0.1694 - acc: 0.9319 - val_loss: 0.1614 - val_acc: 0.9650\n",
      "Epoch 51/100\n",
      "14/14 [==============================] - 0s 4ms/step - loss: 0.1673 - acc: 0.9319 - val_loss: 0.1597 - val_acc: 0.9650\n",
      "Epoch 52/100\n",
      "14/14 [==============================] - 0s 3ms/step - loss: 0.1653 - acc: 0.9319 - val_loss: 0.1579 - val_acc: 0.9720\n",
      "Epoch 53/100\n",
      "14/14 [==============================] - 0s 3ms/step - loss: 0.1634 - acc: 0.9319 - val_loss: 0.1561 - val_acc: 0.9720\n",
      "Epoch 54/100\n",
      "14/14 [==============================] - 0s 3ms/step - loss: 0.1616 - acc: 0.9319 - val_loss: 0.1546 - val_acc: 0.9720\n",
      "Epoch 55/100\n",
      "14/14 [==============================] - 0s 3ms/step - loss: 0.1597 - acc: 0.9366 - val_loss: 0.1531 - val_acc: 0.9720\n",
      "Epoch 56/100\n",
      "14/14 [==============================] - 0s 3ms/step - loss: 0.1579 - acc: 0.9366 - val_loss: 0.1516 - val_acc: 0.9720\n",
      "Epoch 57/100\n",
      "14/14 [==============================] - 0s 3ms/step - loss: 0.1563 - acc: 0.9390 - val_loss: 0.1503 - val_acc: 0.9720\n",
      "Epoch 58/100\n",
      "14/14 [==============================] - 0s 3ms/step - loss: 0.1546 - acc: 0.9390 - val_loss: 0.1489 - val_acc: 0.9720\n",
      "Epoch 59/100\n",
      "14/14 [==============================] - 0s 3ms/step - loss: 0.1531 - acc: 0.9390 - val_loss: 0.1475 - val_acc: 0.9720\n",
      "Epoch 60/100\n",
      "14/14 [==============================] - 0s 2ms/step - loss: 0.1516 - acc: 0.9413 - val_loss: 0.1461 - val_acc: 0.9720\n",
      "Epoch 61/100\n",
      "14/14 [==============================] - 0s 2ms/step - loss: 0.1500 - acc: 0.9437 - val_loss: 0.1450 - val_acc: 0.9720\n",
      "Epoch 62/100\n",
      "14/14 [==============================] - 0s 2ms/step - loss: 0.1486 - acc: 0.9460 - val_loss: 0.1437 - val_acc: 0.9720\n",
      "Epoch 63/100\n",
      "14/14 [==============================] - 0s 3ms/step - loss: 0.1471 - acc: 0.9460 - val_loss: 0.1426 - val_acc: 0.9720\n",
      "Epoch 64/100\n",
      "14/14 [==============================] - 0s 3ms/step - loss: 0.1457 - acc: 0.9460 - val_loss: 0.1415 - val_acc: 0.9720\n",
      "Epoch 65/100\n",
      "14/14 [==============================] - 0s 3ms/step - loss: 0.1444 - acc: 0.9460 - val_loss: 0.1407 - val_acc: 0.9720\n",
      "Epoch 66/100\n",
      "14/14 [==============================] - 0s 3ms/step - loss: 0.1431 - acc: 0.9484 - val_loss: 0.1398 - val_acc: 0.9720\n",
      "Epoch 67/100\n",
      "14/14 [==============================] - 0s 3ms/step - loss: 0.1417 - acc: 0.9484 - val_loss: 0.1391 - val_acc: 0.9720\n",
      "Epoch 68/100\n",
      "14/14 [==============================] - 0s 2ms/step - loss: 0.1405 - acc: 0.9507 - val_loss: 0.1380 - val_acc: 0.9720\n",
      "Epoch 69/100\n",
      "14/14 [==============================] - 0s 3ms/step - loss: 0.1393 - acc: 0.9507 - val_loss: 0.1369 - val_acc: 0.9720\n",
      "Epoch 70/100\n",
      "14/14 [==============================] - 0s 2ms/step - loss: 0.1382 - acc: 0.9507 - val_loss: 0.1363 - val_acc: 0.9720\n",
      "Epoch 71/100\n",
      "14/14 [==============================] - 0s 3ms/step - loss: 0.1371 - acc: 0.9531 - val_loss: 0.1354 - val_acc: 0.9720\n",
      "Epoch 72/100\n",
      "14/14 [==============================] - 0s 3ms/step - loss: 0.1360 - acc: 0.9554 - val_loss: 0.1344 - val_acc: 0.9720\n",
      "Epoch 73/100\n",
      "14/14 [==============================] - 0s 3ms/step - loss: 0.1350 - acc: 0.9554 - val_loss: 0.1335 - val_acc: 0.9720\n",
      "Epoch 74/100\n",
      "14/14 [==============================] - 0s 3ms/step - loss: 0.1340 - acc: 0.9554 - val_loss: 0.1324 - val_acc: 0.9720\n",
      "Epoch 75/100\n",
      "14/14 [==============================] - 0s 2ms/step - loss: 0.1329 - acc: 0.9577 - val_loss: 0.1316 - val_acc: 0.9720\n",
      "Epoch 76/100\n",
      "14/14 [==============================] - 0s 4ms/step - loss: 0.1320 - acc: 0.9577 - val_loss: 0.1309 - val_acc: 0.9720\n",
      "Epoch 77/100\n",
      "14/14 [==============================] - 0s 3ms/step - loss: 0.1310 - acc: 0.9577 - val_loss: 0.1300 - val_acc: 0.9720\n",
      "Epoch 78/100\n",
      "14/14 [==============================] - 0s 2ms/step - loss: 0.1300 - acc: 0.9577 - val_loss: 0.1291 - val_acc: 0.9720\n",
      "Epoch 79/100\n",
      "14/14 [==============================] - 0s 3ms/step - loss: 0.1291 - acc: 0.9577 - val_loss: 0.1283 - val_acc: 0.9720\n",
      "Epoch 80/100\n",
      "14/14 [==============================] - 0s 4ms/step - loss: 0.1283 - acc: 0.9577 - val_loss: 0.1274 - val_acc: 0.9720\n",
      "Epoch 81/100\n",
      "14/14 [==============================] - 0s 4ms/step - loss: 0.1274 - acc: 0.9577 - val_loss: 0.1266 - val_acc: 0.9720\n",
      "Epoch 82/100\n",
      "14/14 [==============================] - 0s 3ms/step - loss: 0.1266 - acc: 0.9577 - val_loss: 0.1260 - val_acc: 0.9720\n",
      "Epoch 83/100\n",
      "14/14 [==============================] - 0s 3ms/step - loss: 0.1258 - acc: 0.9577 - val_loss: 0.1251 - val_acc: 0.9720\n",
      "Epoch 84/100\n",
      "14/14 [==============================] - 0s 3ms/step - loss: 0.1250 - acc: 0.9577 - val_loss: 0.1245 - val_acc: 0.9720\n",
      "Epoch 85/100\n",
      "14/14 [==============================] - 0s 3ms/step - loss: 0.1243 - acc: 0.9577 - val_loss: 0.1239 - val_acc: 0.9720\n",
      "Epoch 86/100\n",
      "14/14 [==============================] - 0s 3ms/step - loss: 0.1235 - acc: 0.9577 - val_loss: 0.1231 - val_acc: 0.9720\n",
      "Epoch 87/100\n",
      "14/14 [==============================] - 0s 2ms/step - loss: 0.1228 - acc: 0.9577 - val_loss: 0.1229 - val_acc: 0.9650\n",
      "Epoch 88/100\n",
      "14/14 [==============================] - 0s 4ms/step - loss: 0.1221 - acc: 0.9577 - val_loss: 0.1226 - val_acc: 0.9650\n",
      "Epoch 89/100\n",
      "14/14 [==============================] - 0s 4ms/step - loss: 0.1214 - acc: 0.9601 - val_loss: 0.1219 - val_acc: 0.9650\n",
      "Epoch 90/100\n",
      "14/14 [==============================] - 0s 3ms/step - loss: 0.1207 - acc: 0.9601 - val_loss: 0.1209 - val_acc: 0.9650\n",
      "Epoch 91/100\n",
      "14/14 [==============================] - 0s 2ms/step - loss: 0.1200 - acc: 0.9601 - val_loss: 0.1204 - val_acc: 0.9650\n",
      "Epoch 92/100\n",
      "14/14 [==============================] - 0s 2ms/step - loss: 0.1194 - acc: 0.9601 - val_loss: 0.1198 - val_acc: 0.9650\n",
      "Epoch 93/100\n",
      "14/14 [==============================] - 0s 3ms/step - loss: 0.1187 - acc: 0.9601 - val_loss: 0.1193 - val_acc: 0.9650\n",
      "Epoch 94/100\n",
      "14/14 [==============================] - 0s 3ms/step - loss: 0.1181 - acc: 0.9601 - val_loss: 0.1188 - val_acc: 0.9650\n",
      "Epoch 95/100\n",
      "14/14 [==============================] - 0s 3ms/step - loss: 0.1174 - acc: 0.9624 - val_loss: 0.1180 - val_acc: 0.9650\n",
      "Epoch 96/100\n",
      "14/14 [==============================] - 0s 3ms/step - loss: 0.1169 - acc: 0.9624 - val_loss: 0.1176 - val_acc: 0.9650\n",
      "Epoch 97/100\n",
      "14/14 [==============================] - 0s 3ms/step - loss: 0.1162 - acc: 0.9624 - val_loss: 0.1172 - val_acc: 0.9650\n",
      "Epoch 98/100\n",
      "14/14 [==============================] - 0s 2ms/step - loss: 0.1156 - acc: 0.9624 - val_loss: 0.1168 - val_acc: 0.9650\n",
      "Epoch 99/100\n",
      "14/14 [==============================] - 0s 2ms/step - loss: 0.1150 - acc: 0.9624 - val_loss: 0.1163 - val_acc: 0.9650\n",
      "Epoch 100/100\n",
      "14/14 [==============================] - 0s 3ms/step - loss: 0.1145 - acc: 0.9624 - val_loss: 0.1159 - val_acc: 0.9650\n"
     ]
    },
    {
     "data": {
      "text/plain": [
       "<keras.callbacks.History at 0x1e033365310>"
      ]
     },
     "execution_count": 194,
     "metadata": {},
     "output_type": "execute_result"
    }
   ],
   "source": [
    "model.fit(X_norm, y ,epochs=100, validation_split=0.25)"
   ]
  },
  {
   "cell_type": "code",
   "execution_count": 195,
   "id": "76993eff",
   "metadata": {},
   "outputs": [],
   "source": [
    "h = model.history.history"
   ]
  },
  {
   "cell_type": "code",
   "execution_count": 196,
   "id": "53355935",
   "metadata": {},
   "outputs": [
    {
     "data": {
      "text/plain": [
       "<matplotlib.legend.Legend at 0x1e0335bfd90>"
      ]
     },
     "execution_count": 196,
     "metadata": {},
     "output_type": "execute_result"
    },
    {
     "data": {
      "image/png": "[encoded data removed]",
      "text/plain": [
       "<Figure size 432x288 with 1 Axes>"
      ]
     },
     "metadata": {
      "needs_background": "light"
     },
     "output_type": "display_data"
    }
   ],
   "source": [
    "plt.plot(h['loss'])\n",
    "plt.plot(h['val_loss'])\n",
    "plt.legend(['loss', 'val_loss'])  #손실값"
   ]
  },
  {
   "cell_type": "code",
   "execution_count": 197,
   "id": "60801fea",
   "metadata": {},
   "outputs": [
    {
     "data": {
      "text/plain": [
       "<matplotlib.legend.Legend at 0x1e03361fa30>"
      ]
     },
     "execution_count": 197,
     "metadata": {},
     "output_type": "execute_result"
    },
    {
     "data": {
      "image/png": "[encoded data removed]",
      "text/plain": [
       "<Figure size 432x288 with 1 Axes>"
      ]
     },
     "metadata": {
      "needs_background": "light"
     },
     "output_type": "display_data"
    }
   ],
   "source": [
    "plt.plot(h['acc'])\n",
    "plt.plot(h['val_acc'])\n",
    "plt.legend(['acc', 'val_acc'])  #정확도"
   ]
  },
  {
   "cell_type": "code",
   "execution_count": null,
   "id": "3f80f670",
   "metadata": {},
   "outputs": [],
   "source": [
    "#신경망은 가중치 값을 잘 이용해서 원하는 값을 도출 하는 것"
   ]
  },
  {
   "cell_type": "code",
   "execution_count": null,
   "id": "ef8907e7",
   "metadata": {},
   "outputs": [],
   "source": []
  },
  {
   "cell_type": "code",
   "execution_count": 2,
   "id": "212a547b",
   "metadata": {},
   "outputs": [],
   "source": [
    "#batch_size -> 기본값은 32"
   ]
  },
  {
   "cell_type": "code",
   "execution_count": null,
   "id": "a0b60a54",
   "metadata": {},
   "outputs": [],
   "source": [
    "#이후 내용 깃 허브 내용 참고"
   ]
  },
  {
   "cell_type": "code",
   "execution_count": 6,
   "id": "8896c3f6",
   "metadata": {},
   "outputs": [],
   "source": []
  },
  {
   "cell_type": "code",
   "execution_count": null,
   "id": "88fb6e16",
   "metadata": {},
   "outputs": [],
   "source": []
  },
  {
   "cell_type": "code",
   "execution_count": null,
   "id": "de16a35d",
   "metadata": {},
   "outputs": [],
   "source": []
  },
  {
   "cell_type": "code",
   "execution_count": null,
   "id": "42b1cf60",
   "metadata": {},
   "outputs": [],
   "source": []
  }
 ],
 "metadata": {
  "kernelspec": {
   "display_name": "Python 3 (ipykernel)",
   "language": "python",
   "name": "python3"
  },
  "language_info": {
   "codemirror_mode": {
    "name": "ipython",
    "version": 3
   },
   "file_extension": ".py",
   "mimetype": "text/x-python",
   "name": "python",
   "nbconvert_exporter": "python",
   "pygments_lexer": "ipython3",
   "version": "3.9.12"
  }
 },
 "nbformat": 4,
 "nbformat_minor": 5
}
